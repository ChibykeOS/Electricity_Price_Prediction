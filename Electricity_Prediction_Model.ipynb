{
  "nbformat": 4,
  "nbformat_minor": 0,
  "metadata": {
    "colab": {
      "provenance": [],
      "authorship_tag": "ABX9TyN1J9jbj82mYn1XtgsVazQ4",
      "include_colab_link": true
    },
    "kernelspec": {
      "name": "python3",
      "display_name": "Python 3"
    },
    "language_info": {
      "name": "python"
    }
  },
  "cells": [
    {
      "cell_type": "markdown",
      "metadata": {
        "id": "view-in-github",
        "colab_type": "text"
      },
      "source": [
        "<a href=\"https://colab.research.google.com/github/ChibykeOS/Electricity_Price_Prediction/blob/main/Electricity_Prediction_Model.ipynb\" target=\"_parent\"><img src=\"https://colab.research.google.com/assets/colab-badge.svg\" alt=\"Open In Colab\"/></a>"
      ]
    },
    {
      "cell_type": "code",
      "execution_count": null,
      "metadata": {
        "id": "G88F8OlLKKK4"
      },
      "outputs": [],
      "source": []
    },
    {
      "cell_type": "markdown",
      "metadata": {
        "id": "185b7213"
      },
      "source": [
        "# Task\n",
        "Predict electricity prices using the dataset from \"electricity_price_dataset.csv\"."
      ]
    },
    {
      "cell_type": "markdown",
      "metadata": {
        "id": "de930133"
      },
      "source": [
        "## Load the data\n",
        "\n",
        "### Subtask:\n",
        "Load the dataset from the provided CSV file into a pandas DataFrame.\n"
      ]
    },
    {
      "cell_type": "markdown",
      "metadata": {
        "id": "c2346982"
      },
      "source": [
        "**Reasoning**:\n",
        "Import pandas and load the dataset into a DataFrame, then display the first 5 rows.\n",
        "\n"
      ]
    },
    {
      "cell_type": "code",
      "metadata": {
        "colab": {
          "base_uri": "https://localhost:8080/",
          "height": 348
        },
        "id": "e8af8a7c",
        "outputId": "dba1adf3-8a63-404c-e399-01988ccf99a9"
      },
      "source": [
        "import pandas as pd\n",
        "\n",
        "# Load the dataset from the provided URL\n",
        "df = pd.read_csv('https://raw.githubusercontent.com/amankharwal/Website-data/master/electricity.csv')\n",
        "\n",
        "# Display the first 5 rows of the DataFrame\n",
        "display(df.head())"
      ],
      "execution_count": 1,
      "outputs": [
        {
          "output_type": "stream",
          "name": "stderr",
          "text": [
            "/tmp/ipython-input-1-1503867512.py:4: DtypeWarning: Columns (9,10,11,14,15,16,17) have mixed types. Specify dtype option on import or set low_memory=False.\n",
            "  df = pd.read_csv('https://raw.githubusercontent.com/amankharwal/Website-data/master/electricity.csv')\n"
          ]
        },
        {
          "output_type": "display_data",
          "data": {
            "text/plain": [
              "           DateTime Holiday  HolidayFlag  DayOfWeek  WeekOfYear  Day  Month  \\\n",
              "0  01/11/2011 00:00     NaN            0          1          44    1     11   \n",
              "1  01/11/2011 00:30     NaN            0          1          44    1     11   \n",
              "2  01/11/2011 01:00     NaN            0          1          44    1     11   \n",
              "3  01/11/2011 01:30     NaN            0          1          44    1     11   \n",
              "4  01/11/2011 02:00     NaN            0          1          44    1     11   \n",
              "\n",
              "   Year  PeriodOfDay ForecastWindProduction SystemLoadEA  SMPEA  \\\n",
              "0  2011            0                 315.31      3388.77  49.26   \n",
              "1  2011            1                 321.80      3196.66  49.26   \n",
              "2  2011            2                 328.57      3060.71  49.10   \n",
              "3  2011            3                 335.60      2945.56  48.04   \n",
              "4  2011            4                 342.90      2849.34  33.75   \n",
              "\n",
              "  ORKTemperature ORKWindspeed CO2Intensity ActualWindProduction SystemLoadEP2  \\\n",
              "0           6.00         9.30       600.71               356.00       3159.60   \n",
              "1           6.00        11.10       605.42               317.00       2973.01   \n",
              "2           5.00        11.10       589.97               311.00       2834.00   \n",
              "3           6.00         9.30       585.94               313.00       2725.99   \n",
              "4           6.00        11.10       571.52               346.00       2655.64   \n",
              "\n",
              "  SMPEP2  \n",
              "0  54.32  \n",
              "1  54.23  \n",
              "2  54.23  \n",
              "3  53.47  \n",
              "4  39.87  "
            ],
            "text/html": [
              "\n",
              "  <div id=\"df-e4b5cf2d-0119-4648-920e-f2c782f6a303\" class=\"colab-df-container\">\n",
              "    <div>\n",
              "<style scoped>\n",
              "    .dataframe tbody tr th:only-of-type {\n",
              "        vertical-align: middle;\n",
              "    }\n",
              "\n",
              "    .dataframe tbody tr th {\n",
              "        vertical-align: top;\n",
              "    }\n",
              "\n",
              "    .dataframe thead th {\n",
              "        text-align: right;\n",
              "    }\n",
              "</style>\n",
              "<table border=\"1\" class=\"dataframe\">\n",
              "  <thead>\n",
              "    <tr style=\"text-align: right;\">\n",
              "      <th></th>\n",
              "      <th>DateTime</th>\n",
              "      <th>Holiday</th>\n",
              "      <th>HolidayFlag</th>\n",
              "      <th>DayOfWeek</th>\n",
              "      <th>WeekOfYear</th>\n",
              "      <th>Day</th>\n",
              "      <th>Month</th>\n",
              "      <th>Year</th>\n",
              "      <th>PeriodOfDay</th>\n",
              "      <th>ForecastWindProduction</th>\n",
              "      <th>SystemLoadEA</th>\n",
              "      <th>SMPEA</th>\n",
              "      <th>ORKTemperature</th>\n",
              "      <th>ORKWindspeed</th>\n",
              "      <th>CO2Intensity</th>\n",
              "      <th>ActualWindProduction</th>\n",
              "      <th>SystemLoadEP2</th>\n",
              "      <th>SMPEP2</th>\n",
              "    </tr>\n",
              "  </thead>\n",
              "  <tbody>\n",
              "    <tr>\n",
              "      <th>0</th>\n",
              "      <td>01/11/2011 00:00</td>\n",
              "      <td>NaN</td>\n",
              "      <td>0</td>\n",
              "      <td>1</td>\n",
              "      <td>44</td>\n",
              "      <td>1</td>\n",
              "      <td>11</td>\n",
              "      <td>2011</td>\n",
              "      <td>0</td>\n",
              "      <td>315.31</td>\n",
              "      <td>3388.77</td>\n",
              "      <td>49.26</td>\n",
              "      <td>6.00</td>\n",
              "      <td>9.30</td>\n",
              "      <td>600.71</td>\n",
              "      <td>356.00</td>\n",
              "      <td>3159.60</td>\n",
              "      <td>54.32</td>\n",
              "    </tr>\n",
              "    <tr>\n",
              "      <th>1</th>\n",
              "      <td>01/11/2011 00:30</td>\n",
              "      <td>NaN</td>\n",
              "      <td>0</td>\n",
              "      <td>1</td>\n",
              "      <td>44</td>\n",
              "      <td>1</td>\n",
              "      <td>11</td>\n",
              "      <td>2011</td>\n",
              "      <td>1</td>\n",
              "      <td>321.80</td>\n",
              "      <td>3196.66</td>\n",
              "      <td>49.26</td>\n",
              "      <td>6.00</td>\n",
              "      <td>11.10</td>\n",
              "      <td>605.42</td>\n",
              "      <td>317.00</td>\n",
              "      <td>2973.01</td>\n",
              "      <td>54.23</td>\n",
              "    </tr>\n",
              "    <tr>\n",
              "      <th>2</th>\n",
              "      <td>01/11/2011 01:00</td>\n",
              "      <td>NaN</td>\n",
              "      <td>0</td>\n",
              "      <td>1</td>\n",
              "      <td>44</td>\n",
              "      <td>1</td>\n",
              "      <td>11</td>\n",
              "      <td>2011</td>\n",
              "      <td>2</td>\n",
              "      <td>328.57</td>\n",
              "      <td>3060.71</td>\n",
              "      <td>49.10</td>\n",
              "      <td>5.00</td>\n",
              "      <td>11.10</td>\n",
              "      <td>589.97</td>\n",
              "      <td>311.00</td>\n",
              "      <td>2834.00</td>\n",
              "      <td>54.23</td>\n",
              "    </tr>\n",
              "    <tr>\n",
              "      <th>3</th>\n",
              "      <td>01/11/2011 01:30</td>\n",
              "      <td>NaN</td>\n",
              "      <td>0</td>\n",
              "      <td>1</td>\n",
              "      <td>44</td>\n",
              "      <td>1</td>\n",
              "      <td>11</td>\n",
              "      <td>2011</td>\n",
              "      <td>3</td>\n",
              "      <td>335.60</td>\n",
              "      <td>2945.56</td>\n",
              "      <td>48.04</td>\n",
              "      <td>6.00</td>\n",
              "      <td>9.30</td>\n",
              "      <td>585.94</td>\n",
              "      <td>313.00</td>\n",
              "      <td>2725.99</td>\n",
              "      <td>53.47</td>\n",
              "    </tr>\n",
              "    <tr>\n",
              "      <th>4</th>\n",
              "      <td>01/11/2011 02:00</td>\n",
              "      <td>NaN</td>\n",
              "      <td>0</td>\n",
              "      <td>1</td>\n",
              "      <td>44</td>\n",
              "      <td>1</td>\n",
              "      <td>11</td>\n",
              "      <td>2011</td>\n",
              "      <td>4</td>\n",
              "      <td>342.90</td>\n",
              "      <td>2849.34</td>\n",
              "      <td>33.75</td>\n",
              "      <td>6.00</td>\n",
              "      <td>11.10</td>\n",
              "      <td>571.52</td>\n",
              "      <td>346.00</td>\n",
              "      <td>2655.64</td>\n",
              "      <td>39.87</td>\n",
              "    </tr>\n",
              "  </tbody>\n",
              "</table>\n",
              "</div>\n",
              "    <div class=\"colab-df-buttons\">\n",
              "\n",
              "  <div class=\"colab-df-container\">\n",
              "    <button class=\"colab-df-convert\" onclick=\"convertToInteractive('df-e4b5cf2d-0119-4648-920e-f2c782f6a303')\"\n",
              "            title=\"Convert this dataframe to an interactive table.\"\n",
              "            style=\"display:none;\">\n",
              "\n",
              "  <svg xmlns=\"http://www.w3.org/2000/svg\" height=\"24px\" viewBox=\"0 -960 960 960\">\n",
              "    <path d=\"M120-120v-720h720v720H120Zm60-500h600v-160H180v160Zm220 220h160v-160H400v160Zm0 220h160v-160H400v160ZM180-400h160v-160H180v160Zm440 0h160v-160H620v160ZM180-180h160v-160H180v160Zm440 0h160v-160H620v160Z\"/>\n",
              "  </svg>\n",
              "    </button>\n",
              "\n",
              "  <style>\n",
              "    .colab-df-container {\n",
              "      display:flex;\n",
              "      gap: 12px;\n",
              "    }\n",
              "\n",
              "    .colab-df-convert {\n",
              "      background-color: #E8F0FE;\n",
              "      border: none;\n",
              "      border-radius: 50%;\n",
              "      cursor: pointer;\n",
              "      display: none;\n",
              "      fill: #1967D2;\n",
              "      height: 32px;\n",
              "      padding: 0 0 0 0;\n",
              "      width: 32px;\n",
              "    }\n",
              "\n",
              "    .colab-df-convert:hover {\n",
              "      background-color: #E2EBFA;\n",
              "      box-shadow: 0px 1px 2px rgba(60, 64, 67, 0.3), 0px 1px 3px 1px rgba(60, 64, 67, 0.15);\n",
              "      fill: #174EA6;\n",
              "    }\n",
              "\n",
              "    .colab-df-buttons div {\n",
              "      margin-bottom: 4px;\n",
              "    }\n",
              "\n",
              "    [theme=dark] .colab-df-convert {\n",
              "      background-color: #3B4455;\n",
              "      fill: #D2E3FC;\n",
              "    }\n",
              "\n",
              "    [theme=dark] .colab-df-convert:hover {\n",
              "      background-color: #434B5C;\n",
              "      box-shadow: 0px 1px 3px 1px rgba(0, 0, 0, 0.15);\n",
              "      filter: drop-shadow(0px 1px 2px rgba(0, 0, 0, 0.3));\n",
              "      fill: #FFFFFF;\n",
              "    }\n",
              "  </style>\n",
              "\n",
              "    <script>\n",
              "      const buttonEl =\n",
              "        document.querySelector('#df-e4b5cf2d-0119-4648-920e-f2c782f6a303 button.colab-df-convert');\n",
              "      buttonEl.style.display =\n",
              "        google.colab.kernel.accessAllowed ? 'block' : 'none';\n",
              "\n",
              "      async function convertToInteractive(key) {\n",
              "        const element = document.querySelector('#df-e4b5cf2d-0119-4648-920e-f2c782f6a303');\n",
              "        const dataTable =\n",
              "          await google.colab.kernel.invokeFunction('convertToInteractive',\n",
              "                                                    [key], {});\n",
              "        if (!dataTable) return;\n",
              "\n",
              "        const docLinkHtml = 'Like what you see? Visit the ' +\n",
              "          '<a target=\"_blank\" href=https://colab.research.google.com/notebooks/data_table.ipynb>data table notebook</a>'\n",
              "          + ' to learn more about interactive tables.';\n",
              "        element.innerHTML = '';\n",
              "        dataTable['output_type'] = 'display_data';\n",
              "        await google.colab.output.renderOutput(dataTable, element);\n",
              "        const docLink = document.createElement('div');\n",
              "        docLink.innerHTML = docLinkHtml;\n",
              "        element.appendChild(docLink);\n",
              "      }\n",
              "    </script>\n",
              "  </div>\n",
              "\n",
              "\n",
              "    <div id=\"df-5586ebf1-0fda-4dc9-9a31-51114df81cee\">\n",
              "      <button class=\"colab-df-quickchart\" onclick=\"quickchart('df-5586ebf1-0fda-4dc9-9a31-51114df81cee')\"\n",
              "                title=\"Suggest charts\"\n",
              "                style=\"display:none;\">\n",
              "\n",
              "<svg xmlns=\"http://www.w3.org/2000/svg\" height=\"24px\"viewBox=\"0 0 24 24\"\n",
              "     width=\"24px\">\n",
              "    <g>\n",
              "        <path d=\"M19 3H5c-1.1 0-2 .9-2 2v14c0 1.1.9 2 2 2h14c1.1 0 2-.9 2-2V5c0-1.1-.9-2-2-2zM9 17H7v-7h2v7zm4 0h-2V7h2v10zm4 0h-2v-4h2v4z\"/>\n",
              "    </g>\n",
              "</svg>\n",
              "      </button>\n",
              "\n",
              "<style>\n",
              "  .colab-df-quickchart {\n",
              "      --bg-color: #E8F0FE;\n",
              "      --fill-color: #1967D2;\n",
              "      --hover-bg-color: #E2EBFA;\n",
              "      --hover-fill-color: #174EA6;\n",
              "      --disabled-fill-color: #AAA;\n",
              "      --disabled-bg-color: #DDD;\n",
              "  }\n",
              "\n",
              "  [theme=dark] .colab-df-quickchart {\n",
              "      --bg-color: #3B4455;\n",
              "      --fill-color: #D2E3FC;\n",
              "      --hover-bg-color: #434B5C;\n",
              "      --hover-fill-color: #FFFFFF;\n",
              "      --disabled-bg-color: #3B4455;\n",
              "      --disabled-fill-color: #666;\n",
              "  }\n",
              "\n",
              "  .colab-df-quickchart {\n",
              "    background-color: var(--bg-color);\n",
              "    border: none;\n",
              "    border-radius: 50%;\n",
              "    cursor: pointer;\n",
              "    display: none;\n",
              "    fill: var(--fill-color);\n",
              "    height: 32px;\n",
              "    padding: 0;\n",
              "    width: 32px;\n",
              "  }\n",
              "\n",
              "  .colab-df-quickchart:hover {\n",
              "    background-color: var(--hover-bg-color);\n",
              "    box-shadow: 0 1px 2px rgba(60, 64, 67, 0.3), 0 1px 3px 1px rgba(60, 64, 67, 0.15);\n",
              "    fill: var(--button-hover-fill-color);\n",
              "  }\n",
              "\n",
              "  .colab-df-quickchart-complete:disabled,\n",
              "  .colab-df-quickchart-complete:disabled:hover {\n",
              "    background-color: var(--disabled-bg-color);\n",
              "    fill: var(--disabled-fill-color);\n",
              "    box-shadow: none;\n",
              "  }\n",
              "\n",
              "  .colab-df-spinner {\n",
              "    border: 2px solid var(--fill-color);\n",
              "    border-color: transparent;\n",
              "    border-bottom-color: var(--fill-color);\n",
              "    animation:\n",
              "      spin 1s steps(1) infinite;\n",
              "  }\n",
              "\n",
              "  @keyframes spin {\n",
              "    0% {\n",
              "      border-color: transparent;\n",
              "      border-bottom-color: var(--fill-color);\n",
              "      border-left-color: var(--fill-color);\n",
              "    }\n",
              "    20% {\n",
              "      border-color: transparent;\n",
              "      border-left-color: var(--fill-color);\n",
              "      border-top-color: var(--fill-color);\n",
              "    }\n",
              "    30% {\n",
              "      border-color: transparent;\n",
              "      border-left-color: var(--fill-color);\n",
              "      border-top-color: var(--fill-color);\n",
              "      border-right-color: var(--fill-color);\n",
              "    }\n",
              "    40% {\n",
              "      border-color: transparent;\n",
              "      border-right-color: var(--fill-color);\n",
              "      border-top-color: var(--fill-color);\n",
              "    }\n",
              "    60% {\n",
              "      border-color: transparent;\n",
              "      border-right-color: var(--fill-color);\n",
              "    }\n",
              "    80% {\n",
              "      border-color: transparent;\n",
              "      border-right-color: var(--fill-color);\n",
              "      border-bottom-color: var(--fill-color);\n",
              "    }\n",
              "    90% {\n",
              "      border-color: transparent;\n",
              "      border-bottom-color: var(--fill-color);\n",
              "    }\n",
              "  }\n",
              "</style>\n",
              "\n",
              "      <script>\n",
              "        async function quickchart(key) {\n",
              "          const quickchartButtonEl =\n",
              "            document.querySelector('#' + key + ' button');\n",
              "          quickchartButtonEl.disabled = true;  // To prevent multiple clicks.\n",
              "          quickchartButtonEl.classList.add('colab-df-spinner');\n",
              "          try {\n",
              "            const charts = await google.colab.kernel.invokeFunction(\n",
              "                'suggestCharts', [key], {});\n",
              "          } catch (error) {\n",
              "            console.error('Error during call to suggestCharts:', error);\n",
              "          }\n",
              "          quickchartButtonEl.classList.remove('colab-df-spinner');\n",
              "          quickchartButtonEl.classList.add('colab-df-quickchart-complete');\n",
              "        }\n",
              "        (() => {\n",
              "          let quickchartButtonEl =\n",
              "            document.querySelector('#df-5586ebf1-0fda-4dc9-9a31-51114df81cee button');\n",
              "          quickchartButtonEl.style.display =\n",
              "            google.colab.kernel.accessAllowed ? 'block' : 'none';\n",
              "        })();\n",
              "      </script>\n",
              "    </div>\n",
              "\n",
              "    </div>\n",
              "  </div>\n"
            ],
            "application/vnd.google.colaboratory.intrinsic+json": {
              "type": "dataframe",
              "repr_error": "Out of range float values are not JSON compliant: nan"
            }
          },
          "metadata": {}
        }
      ]
    },
    {
      "cell_type": "code",
      "metadata": {
        "colab": {
          "base_uri": "https://localhost:8080/",
          "height": 1000
        },
        "id": "3ecfd355",
        "outputId": "0167d979-0e06-4999-b515-439ef0a65dde"
      },
      "source": [
        "# Display data types of each column\n",
        "print(df.info())\n",
        "\n",
        "# Check for missing values\n",
        "print(\"\\nMissing values per column:\")\n",
        "print(df.isnull().sum())\n",
        "\n",
        "# Display basic statistics\n",
        "print(\"\\nBasic statistics:\")\n",
        "display(df.describe())"
      ],
      "execution_count": 2,
      "outputs": [
        {
          "output_type": "stream",
          "name": "stdout",
          "text": [
            "<class 'pandas.core.frame.DataFrame'>\n",
            "RangeIndex: 38014 entries, 0 to 38013\n",
            "Data columns (total 18 columns):\n",
            " #   Column                  Non-Null Count  Dtype \n",
            "---  ------                  --------------  ----- \n",
            " 0   DateTime                38014 non-null  object\n",
            " 1   Holiday                 1536 non-null   object\n",
            " 2   HolidayFlag             38014 non-null  int64 \n",
            " 3   DayOfWeek               38014 non-null  int64 \n",
            " 4   WeekOfYear              38014 non-null  int64 \n",
            " 5   Day                     38014 non-null  int64 \n",
            " 6   Month                   38014 non-null  int64 \n",
            " 7   Year                    38014 non-null  int64 \n",
            " 8   PeriodOfDay             38014 non-null  int64 \n",
            " 9   ForecastWindProduction  38014 non-null  object\n",
            " 10  SystemLoadEA            38014 non-null  object\n",
            " 11  SMPEA                   38014 non-null  object\n",
            " 12  ORKTemperature          38014 non-null  object\n",
            " 13  ORKWindspeed            38014 non-null  object\n",
            " 14  CO2Intensity            38014 non-null  object\n",
            " 15  ActualWindProduction    38014 non-null  object\n",
            " 16  SystemLoadEP2           38014 non-null  object\n",
            " 17  SMPEP2                  38014 non-null  object\n",
            "dtypes: int64(7), object(11)\n",
            "memory usage: 5.2+ MB\n",
            "None\n",
            "\n",
            "Missing values per column:\n",
            "DateTime                      0\n",
            "Holiday                   36478\n",
            "HolidayFlag                   0\n",
            "DayOfWeek                     0\n",
            "WeekOfYear                    0\n",
            "Day                           0\n",
            "Month                         0\n",
            "Year                          0\n",
            "PeriodOfDay                   0\n",
            "ForecastWindProduction        0\n",
            "SystemLoadEA                  0\n",
            "SMPEA                         0\n",
            "ORKTemperature                0\n",
            "ORKWindspeed                  0\n",
            "CO2Intensity                  0\n",
            "ActualWindProduction          0\n",
            "SystemLoadEP2                 0\n",
            "SMPEP2                        0\n",
            "dtype: int64\n",
            "\n",
            "Basic statistics:\n"
          ]
        },
        {
          "output_type": "display_data",
          "data": {
            "text/plain": [
              "        HolidayFlag     DayOfWeek    WeekOfYear           Day         Month  \\\n",
              "count  38014.000000  38014.000000  38014.000000  38014.000000  38014.000000   \n",
              "mean       0.040406      2.997317     28.124586     15.739412      6.904246   \n",
              "std        0.196912      1.999959     15.587575      8.804247      3.573696   \n",
              "min        0.000000      0.000000      1.000000      1.000000      1.000000   \n",
              "25%        0.000000      1.000000     15.000000      8.000000      4.000000   \n",
              "50%        0.000000      3.000000     29.000000     16.000000      7.000000   \n",
              "75%        0.000000      5.000000     43.000000     23.000000     10.000000   \n",
              "max        1.000000      6.000000     52.000000     31.000000     12.000000   \n",
              "\n",
              "               Year   PeriodOfDay  \n",
              "count  38014.000000  38014.000000  \n",
              "mean    2012.383859     23.501105  \n",
              "std        0.624956     13.853108  \n",
              "min     2011.000000      0.000000  \n",
              "25%     2012.000000     12.000000  \n",
              "50%     2012.000000     24.000000  \n",
              "75%     2013.000000     35.750000  \n",
              "max     2013.000000     47.000000  "
            ],
            "text/html": [
              "\n",
              "  <div id=\"df-c3721fab-9863-4955-80ff-266ca3f6017d\" class=\"colab-df-container\">\n",
              "    <div>\n",
              "<style scoped>\n",
              "    .dataframe tbody tr th:only-of-type {\n",
              "        vertical-align: middle;\n",
              "    }\n",
              "\n",
              "    .dataframe tbody tr th {\n",
              "        vertical-align: top;\n",
              "    }\n",
              "\n",
              "    .dataframe thead th {\n",
              "        text-align: right;\n",
              "    }\n",
              "</style>\n",
              "<table border=\"1\" class=\"dataframe\">\n",
              "  <thead>\n",
              "    <tr style=\"text-align: right;\">\n",
              "      <th></th>\n",
              "      <th>HolidayFlag</th>\n",
              "      <th>DayOfWeek</th>\n",
              "      <th>WeekOfYear</th>\n",
              "      <th>Day</th>\n",
              "      <th>Month</th>\n",
              "      <th>Year</th>\n",
              "      <th>PeriodOfDay</th>\n",
              "    </tr>\n",
              "  </thead>\n",
              "  <tbody>\n",
              "    <tr>\n",
              "      <th>count</th>\n",
              "      <td>38014.000000</td>\n",
              "      <td>38014.000000</td>\n",
              "      <td>38014.000000</td>\n",
              "      <td>38014.000000</td>\n",
              "      <td>38014.000000</td>\n",
              "      <td>38014.000000</td>\n",
              "      <td>38014.000000</td>\n",
              "    </tr>\n",
              "    <tr>\n",
              "      <th>mean</th>\n",
              "      <td>0.040406</td>\n",
              "      <td>2.997317</td>\n",
              "      <td>28.124586</td>\n",
              "      <td>15.739412</td>\n",
              "      <td>6.904246</td>\n",
              "      <td>2012.383859</td>\n",
              "      <td>23.501105</td>\n",
              "    </tr>\n",
              "    <tr>\n",
              "      <th>std</th>\n",
              "      <td>0.196912</td>\n",
              "      <td>1.999959</td>\n",
              "      <td>15.587575</td>\n",
              "      <td>8.804247</td>\n",
              "      <td>3.573696</td>\n",
              "      <td>0.624956</td>\n",
              "      <td>13.853108</td>\n",
              "    </tr>\n",
              "    <tr>\n",
              "      <th>min</th>\n",
              "      <td>0.000000</td>\n",
              "      <td>0.000000</td>\n",
              "      <td>1.000000</td>\n",
              "      <td>1.000000</td>\n",
              "      <td>1.000000</td>\n",
              "      <td>2011.000000</td>\n",
              "      <td>0.000000</td>\n",
              "    </tr>\n",
              "    <tr>\n",
              "      <th>25%</th>\n",
              "      <td>0.000000</td>\n",
              "      <td>1.000000</td>\n",
              "      <td>15.000000</td>\n",
              "      <td>8.000000</td>\n",
              "      <td>4.000000</td>\n",
              "      <td>2012.000000</td>\n",
              "      <td>12.000000</td>\n",
              "    </tr>\n",
              "    <tr>\n",
              "      <th>50%</th>\n",
              "      <td>0.000000</td>\n",
              "      <td>3.000000</td>\n",
              "      <td>29.000000</td>\n",
              "      <td>16.000000</td>\n",
              "      <td>7.000000</td>\n",
              "      <td>2012.000000</td>\n",
              "      <td>24.000000</td>\n",
              "    </tr>\n",
              "    <tr>\n",
              "      <th>75%</th>\n",
              "      <td>0.000000</td>\n",
              "      <td>5.000000</td>\n",
              "      <td>43.000000</td>\n",
              "      <td>23.000000</td>\n",
              "      <td>10.000000</td>\n",
              "      <td>2013.000000</td>\n",
              "      <td>35.750000</td>\n",
              "    </tr>\n",
              "    <tr>\n",
              "      <th>max</th>\n",
              "      <td>1.000000</td>\n",
              "      <td>6.000000</td>\n",
              "      <td>52.000000</td>\n",
              "      <td>31.000000</td>\n",
              "      <td>12.000000</td>\n",
              "      <td>2013.000000</td>\n",
              "      <td>47.000000</td>\n",
              "    </tr>\n",
              "  </tbody>\n",
              "</table>\n",
              "</div>\n",
              "    <div class=\"colab-df-buttons\">\n",
              "\n",
              "  <div class=\"colab-df-container\">\n",
              "    <button class=\"colab-df-convert\" onclick=\"convertToInteractive('df-c3721fab-9863-4955-80ff-266ca3f6017d')\"\n",
              "            title=\"Convert this dataframe to an interactive table.\"\n",
              "            style=\"display:none;\">\n",
              "\n",
              "  <svg xmlns=\"http://www.w3.org/2000/svg\" height=\"24px\" viewBox=\"0 -960 960 960\">\n",
              "    <path d=\"M120-120v-720h720v720H120Zm60-500h600v-160H180v160Zm220 220h160v-160H400v160Zm0 220h160v-160H400v160ZM180-400h160v-160H180v160Zm440 0h160v-160H620v160ZM180-180h160v-160H180v160Zm440 0h160v-160H620v160Z\"/>\n",
              "  </svg>\n",
              "    </button>\n",
              "\n",
              "  <style>\n",
              "    .colab-df-container {\n",
              "      display:flex;\n",
              "      gap: 12px;\n",
              "    }\n",
              "\n",
              "    .colab-df-convert {\n",
              "      background-color: #E8F0FE;\n",
              "      border: none;\n",
              "      border-radius: 50%;\n",
              "      cursor: pointer;\n",
              "      display: none;\n",
              "      fill: #1967D2;\n",
              "      height: 32px;\n",
              "      padding: 0 0 0 0;\n",
              "      width: 32px;\n",
              "    }\n",
              "\n",
              "    .colab-df-convert:hover {\n",
              "      background-color: #E2EBFA;\n",
              "      box-shadow: 0px 1px 2px rgba(60, 64, 67, 0.3), 0px 1px 3px 1px rgba(60, 64, 67, 0.15);\n",
              "      fill: #174EA6;\n",
              "    }\n",
              "\n",
              "    .colab-df-buttons div {\n",
              "      margin-bottom: 4px;\n",
              "    }\n",
              "\n",
              "    [theme=dark] .colab-df-convert {\n",
              "      background-color: #3B4455;\n",
              "      fill: #D2E3FC;\n",
              "    }\n",
              "\n",
              "    [theme=dark] .colab-df-convert:hover {\n",
              "      background-color: #434B5C;\n",
              "      box-shadow: 0px 1px 3px 1px rgba(0, 0, 0, 0.15);\n",
              "      filter: drop-shadow(0px 1px 2px rgba(0, 0, 0, 0.3));\n",
              "      fill: #FFFFFF;\n",
              "    }\n",
              "  </style>\n",
              "\n",
              "    <script>\n",
              "      const buttonEl =\n",
              "        document.querySelector('#df-c3721fab-9863-4955-80ff-266ca3f6017d button.colab-df-convert');\n",
              "      buttonEl.style.display =\n",
              "        google.colab.kernel.accessAllowed ? 'block' : 'none';\n",
              "\n",
              "      async function convertToInteractive(key) {\n",
              "        const element = document.querySelector('#df-c3721fab-9863-4955-80ff-266ca3f6017d');\n",
              "        const dataTable =\n",
              "          await google.colab.kernel.invokeFunction('convertToInteractive',\n",
              "                                                    [key], {});\n",
              "        if (!dataTable) return;\n",
              "\n",
              "        const docLinkHtml = 'Like what you see? Visit the ' +\n",
              "          '<a target=\"_blank\" href=https://colab.research.google.com/notebooks/data_table.ipynb>data table notebook</a>'\n",
              "          + ' to learn more about interactive tables.';\n",
              "        element.innerHTML = '';\n",
              "        dataTable['output_type'] = 'display_data';\n",
              "        await google.colab.output.renderOutput(dataTable, element);\n",
              "        const docLink = document.createElement('div');\n",
              "        docLink.innerHTML = docLinkHtml;\n",
              "        element.appendChild(docLink);\n",
              "      }\n",
              "    </script>\n",
              "  </div>\n",
              "\n",
              "\n",
              "    <div id=\"df-4f9820d7-8c14-4f90-8e45-6266ba448e83\">\n",
              "      <button class=\"colab-df-quickchart\" onclick=\"quickchart('df-4f9820d7-8c14-4f90-8e45-6266ba448e83')\"\n",
              "                title=\"Suggest charts\"\n",
              "                style=\"display:none;\">\n",
              "\n",
              "<svg xmlns=\"http://www.w3.org/2000/svg\" height=\"24px\"viewBox=\"0 0 24 24\"\n",
              "     width=\"24px\">\n",
              "    <g>\n",
              "        <path d=\"M19 3H5c-1.1 0-2 .9-2 2v14c0 1.1.9 2 2 2h14c1.1 0 2-.9 2-2V5c0-1.1-.9-2-2-2zM9 17H7v-7h2v7zm4 0h-2V7h2v10zm4 0h-2v-4h2v4z\"/>\n",
              "    </g>\n",
              "</svg>\n",
              "      </button>\n",
              "\n",
              "<style>\n",
              "  .colab-df-quickchart {\n",
              "      --bg-color: #E8F0FE;\n",
              "      --fill-color: #1967D2;\n",
              "      --hover-bg-color: #E2EBFA;\n",
              "      --hover-fill-color: #174EA6;\n",
              "      --disabled-fill-color: #AAA;\n",
              "      --disabled-bg-color: #DDD;\n",
              "  }\n",
              "\n",
              "  [theme=dark] .colab-df-quickchart {\n",
              "      --bg-color: #3B4455;\n",
              "      --fill-color: #D2E3FC;\n",
              "      --hover-bg-color: #434B5C;\n",
              "      --hover-fill-color: #FFFFFF;\n",
              "      --disabled-bg-color: #3B4455;\n",
              "      --disabled-fill-color: #666;\n",
              "  }\n",
              "\n",
              "  .colab-df-quickchart {\n",
              "    background-color: var(--bg-color);\n",
              "    border: none;\n",
              "    border-radius: 50%;\n",
              "    cursor: pointer;\n",
              "    display: none;\n",
              "    fill: var(--fill-color);\n",
              "    height: 32px;\n",
              "    padding: 0;\n",
              "    width: 32px;\n",
              "  }\n",
              "\n",
              "  .colab-df-quickchart:hover {\n",
              "    background-color: var(--hover-bg-color);\n",
              "    box-shadow: 0 1px 2px rgba(60, 64, 67, 0.3), 0 1px 3px 1px rgba(60, 64, 67, 0.15);\n",
              "    fill: var(--button-hover-fill-color);\n",
              "  }\n",
              "\n",
              "  .colab-df-quickchart-complete:disabled,\n",
              "  .colab-df-quickchart-complete:disabled:hover {\n",
              "    background-color: var(--disabled-bg-color);\n",
              "    fill: var(--disabled-fill-color);\n",
              "    box-shadow: none;\n",
              "  }\n",
              "\n",
              "  .colab-df-spinner {\n",
              "    border: 2px solid var(--fill-color);\n",
              "    border-color: transparent;\n",
              "    border-bottom-color: var(--fill-color);\n",
              "    animation:\n",
              "      spin 1s steps(1) infinite;\n",
              "  }\n",
              "\n",
              "  @keyframes spin {\n",
              "    0% {\n",
              "      border-color: transparent;\n",
              "      border-bottom-color: var(--fill-color);\n",
              "      border-left-color: var(--fill-color);\n",
              "    }\n",
              "    20% {\n",
              "      border-color: transparent;\n",
              "      border-left-color: var(--fill-color);\n",
              "      border-top-color: var(--fill-color);\n",
              "    }\n",
              "    30% {\n",
              "      border-color: transparent;\n",
              "      border-left-color: var(--fill-color);\n",
              "      border-top-color: var(--fill-color);\n",
              "      border-right-color: var(--fill-color);\n",
              "    }\n",
              "    40% {\n",
              "      border-color: transparent;\n",
              "      border-right-color: var(--fill-color);\n",
              "      border-top-color: var(--fill-color);\n",
              "    }\n",
              "    60% {\n",
              "      border-color: transparent;\n",
              "      border-right-color: var(--fill-color);\n",
              "    }\n",
              "    80% {\n",
              "      border-color: transparent;\n",
              "      border-right-color: var(--fill-color);\n",
              "      border-bottom-color: var(--fill-color);\n",
              "    }\n",
              "    90% {\n",
              "      border-color: transparent;\n",
              "      border-bottom-color: var(--fill-color);\n",
              "    }\n",
              "  }\n",
              "</style>\n",
              "\n",
              "      <script>\n",
              "        async function quickchart(key) {\n",
              "          const quickchartButtonEl =\n",
              "            document.querySelector('#' + key + ' button');\n",
              "          quickchartButtonEl.disabled = true;  // To prevent multiple clicks.\n",
              "          quickchartButtonEl.classList.add('colab-df-spinner');\n",
              "          try {\n",
              "            const charts = await google.colab.kernel.invokeFunction(\n",
              "                'suggestCharts', [key], {});\n",
              "          } catch (error) {\n",
              "            console.error('Error during call to suggestCharts:', error);\n",
              "          }\n",
              "          quickchartButtonEl.classList.remove('colab-df-spinner');\n",
              "          quickchartButtonEl.classList.add('colab-df-quickchart-complete');\n",
              "        }\n",
              "        (() => {\n",
              "          let quickchartButtonEl =\n",
              "            document.querySelector('#df-4f9820d7-8c14-4f90-8e45-6266ba448e83 button');\n",
              "          quickchartButtonEl.style.display =\n",
              "            google.colab.kernel.accessAllowed ? 'block' : 'none';\n",
              "        })();\n",
              "      </script>\n",
              "    </div>\n",
              "\n",
              "    </div>\n",
              "  </div>\n"
            ],
            "application/vnd.google.colaboratory.intrinsic+json": {
              "type": "dataframe",
              "summary": "{\n  \"name\": \"display(df\",\n  \"rows\": 8,\n  \"fields\": [\n    {\n      \"column\": \"HolidayFlag\",\n      \"properties\": {\n        \"dtype\": \"number\",\n        \"std\": 13439.916100350418,\n        \"min\": 0.0,\n        \"max\": 38014.0,\n        \"num_unique_values\": 5,\n        \"samples\": [\n          0.04040616614931341,\n          1.0,\n          0.19691248790507232\n        ],\n        \"semantic_type\": \"\",\n        \"description\": \"\"\n      }\n    },\n    {\n      \"column\": \"DayOfWeek\",\n      \"properties\": {\n        \"dtype\": \"number\",\n        \"std\": 13438.96871781826,\n        \"min\": 0.0,\n        \"max\": 38014.0,\n        \"num_unique_values\": 8,\n        \"samples\": [\n          2.997316778029147,\n          3.0,\n          38014.0\n        ],\n        \"semantic_type\": \"\",\n        \"description\": \"\"\n      }\n    },\n    {\n      \"column\": \"WeekOfYear\",\n      \"properties\": {\n        \"dtype\": \"number\",\n        \"std\": 13430.709470526175,\n        \"min\": 1.0,\n        \"max\": 38014.0,\n        \"num_unique_values\": 8,\n        \"samples\": [\n          28.124585678960383,\n          29.0,\n          38014.0\n        ],\n        \"semantic_type\": \"\",\n        \"description\": \"\"\n      }\n    },\n    {\n      \"column\": \"Day\",\n      \"properties\": {\n        \"dtype\": \"number\",\n        \"std\": 13434.752060148052,\n        \"min\": 1.0,\n        \"max\": 38014.0,\n        \"num_unique_values\": 8,\n        \"samples\": [\n          15.739411795654233,\n          16.0,\n          38014.0\n        ],\n        \"semantic_type\": \"\",\n        \"description\": \"\"\n      }\n    },\n    {\n      \"column\": \"Month\",\n      \"properties\": {\n        \"dtype\": \"number\",\n        \"std\": 13437.732581573713,\n        \"min\": 1.0,\n        \"max\": 38014.0,\n        \"num_unique_values\": 8,\n        \"samples\": [\n          6.904245804177409,\n          7.0,\n          38014.0\n        ],\n        \"semantic_type\": \"\",\n        \"description\": \"\"\n      }\n    },\n    {\n      \"column\": \"Year\",\n      \"properties\": {\n        \"dtype\": \"number\",\n        \"std\": 12849.444422726536,\n        \"min\": 0.6249559608557919,\n        \"max\": 38014.0,\n        \"num_unique_values\": 6,\n        \"samples\": [\n          38014.0,\n          2012.3838585784185,\n          2013.0\n        ],\n        \"semantic_type\": \"\",\n        \"description\": \"\"\n      }\n    },\n    {\n      \"column\": \"PeriodOfDay\",\n      \"properties\": {\n        \"dtype\": \"number\",\n        \"std\": 13432.101954020214,\n        \"min\": 0.0,\n        \"max\": 38014.0,\n        \"num_unique_values\": 8,\n        \"samples\": [\n          23.501104856105645,\n          24.0,\n          38014.0\n        ],\n        \"semantic_type\": \"\",\n        \"description\": \"\"\n      }\n    }\n  ]\n}"
            }
          },
          "metadata": {}
        }
      ]
    },
    {
      "cell_type": "markdown",
      "metadata": {
        "id": "5892bfc2"
      },
      "source": [
        "## Preprocess the data\n",
        "\n",
        "### Subtask:\n",
        "Handle missing values, convert data types, and prepare features for modeling."
      ]
    },
    {
      "cell_type": "code",
      "metadata": {
        "colab": {
          "base_uri": "https://localhost:8080/"
        },
        "id": "ba3f50d9",
        "outputId": "0fac8b45-6b9d-4dd9-f644-49d0e5077f7c"
      },
      "source": [
        "# Address the DtypeWarning by specifying data types for relevant columns\n",
        "# We will convert columns with mixed types to numeric, coercing errors to NaN\n",
        "cols_to_numeric = [\n",
        "    'ForecastWindProduction',\n",
        "    'SystemLoadEA',\n",
        "    'SMPEA',\n",
        "    'ORKTemperature',\n",
        "    'ORKWindspeed',\n",
        "    'CO2Intensity',\n",
        "    'ActualWindProduction',\n",
        "    'SystemLoadEP2',\n",
        "    'SMPEP2'\n",
        "]\n",
        "for col in cols_to_numeric:\n",
        "    df[col] = pd.to_numeric(df[col], errors='coerce')\n",
        "\n",
        "# Convert the 'DateTime' column to datetime objects\n",
        "df['DateTime'] = pd.to_datetime(df['DateTime'], format='%d/%m/%Y %H:%M')\n",
        "\n",
        "# Handle missing values in 'Holiday' column - we can fill with 'None' as it indicates no holiday\n",
        "# Using the recommended approach instead of inplace=True\n",
        "df['Holiday'] = df['Holiday'].fillna('None')\n",
        "\n",
        "# Check for missing values again after handling\n",
        "print(\"Missing values after handling:\")\n",
        "print(df.isnull().sum())\n",
        "\n",
        "# Display data types after conversion\n",
        "print(\"\\nData types after conversion:\")\n",
        "print(df.info())"
      ],
      "execution_count": 4,
      "outputs": [
        {
          "output_type": "stream",
          "name": "stdout",
          "text": [
            "Missing values after handling:\n",
            "DateTime                    0\n",
            "Holiday                     0\n",
            "HolidayFlag                 0\n",
            "DayOfWeek                   0\n",
            "WeekOfYear                  0\n",
            "Day                         0\n",
            "Month                       0\n",
            "Year                        0\n",
            "PeriodOfDay                 0\n",
            "ForecastWindProduction      5\n",
            "SystemLoadEA                2\n",
            "SMPEA                       2\n",
            "ORKTemperature            295\n",
            "ORKWindspeed              299\n",
            "CO2Intensity                7\n",
            "ActualWindProduction        5\n",
            "SystemLoadEP2               2\n",
            "SMPEP2                      2\n",
            "dtype: int64\n",
            "\n",
            "Data types after conversion:\n",
            "<class 'pandas.core.frame.DataFrame'>\n",
            "RangeIndex: 38014 entries, 0 to 38013\n",
            "Data columns (total 18 columns):\n",
            " #   Column                  Non-Null Count  Dtype         \n",
            "---  ------                  --------------  -----         \n",
            " 0   DateTime                38014 non-null  datetime64[ns]\n",
            " 1   Holiday                 38014 non-null  object        \n",
            " 2   HolidayFlag             38014 non-null  int64         \n",
            " 3   DayOfWeek               38014 non-null  int64         \n",
            " 4   WeekOfYear              38014 non-null  int64         \n",
            " 5   Day                     38014 non-null  int64         \n",
            " 6   Month                   38014 non-null  int64         \n",
            " 7   Year                    38014 non-null  int64         \n",
            " 8   PeriodOfDay             38014 non-null  int64         \n",
            " 9   ForecastWindProduction  38009 non-null  float64       \n",
            " 10  SystemLoadEA            38012 non-null  float64       \n",
            " 11  SMPEA                   38012 non-null  float64       \n",
            " 12  ORKTemperature          37719 non-null  float64       \n",
            " 13  ORKWindspeed            37715 non-null  float64       \n",
            " 14  CO2Intensity            38007 non-null  float64       \n",
            " 15  ActualWindProduction    38009 non-null  float64       \n",
            " 16  SystemLoadEP2           38012 non-null  float64       \n",
            " 17  SMPEP2                  38012 non-null  float64       \n",
            "dtypes: datetime64[ns](1), float64(9), int64(7), object(1)\n",
            "memory usage: 5.2+ MB\n",
            "None\n"
          ]
        }
      ]
    },
    {
      "cell_type": "markdown",
      "metadata": {
        "id": "0dd5a57f"
      },
      "source": [
        "### Subtask: Handle remaining missing values"
      ]
    },
    {
      "cell_type": "code",
      "metadata": {
        "colab": {
          "base_uri": "https://localhost:8080/"
        },
        "id": "7780b22c",
        "outputId": "a8e760bc-8f78-43a9-9735-a9375a432bb4"
      },
      "source": [
        "# Impute remaining missing numerical values with the mean\n",
        "for col in cols_to_numeric:\n",
        "    if df[col].isnull().sum() > 0:\n",
        "        mean_val = df[col].mean()\n",
        "        df[col] = df[col].fillna(mean_val)\n",
        "\n",
        "# Check for missing values again after imputation\n",
        "print(\"Missing values after imputation:\")\n",
        "print(df.isnull().sum())"
      ],
      "execution_count": 5,
      "outputs": [
        {
          "output_type": "stream",
          "name": "stdout",
          "text": [
            "Missing values after imputation:\n",
            "DateTime                  0\n",
            "Holiday                   0\n",
            "HolidayFlag               0\n",
            "DayOfWeek                 0\n",
            "WeekOfYear                0\n",
            "Day                       0\n",
            "Month                     0\n",
            "Year                      0\n",
            "PeriodOfDay               0\n",
            "ForecastWindProduction    0\n",
            "SystemLoadEA              0\n",
            "SMPEA                     0\n",
            "ORKTemperature            0\n",
            "ORKWindspeed              0\n",
            "CO2Intensity              0\n",
            "ActualWindProduction      0\n",
            "SystemLoadEP2             0\n",
            "SMPEP2                    0\n",
            "dtype: int64\n"
          ]
        }
      ]
    },
    {
      "cell_type": "markdown",
      "metadata": {
        "id": "aef0c610"
      },
      "source": [
        "## Feature Engineering\n",
        "\n",
        "### Subtask:\n",
        "Create new features from the 'DateTime' column."
      ]
    },
    {
      "cell_type": "code",
      "metadata": {
        "colab": {
          "base_uri": "https://localhost:8080/",
          "height": 429
        },
        "id": "c17ce8a1",
        "outputId": "fb11cbb3-c122-417a-cbc3-21fa834f0786"
      },
      "source": [
        "# Extract time-based features from the 'DateTime' column\n",
        "df['hour'] = df['DateTime'].dt.hour\n",
        "df['dayofweek'] = df['DateTime'].dt.dayofweek\n",
        "df['dayofyear'] = df['DateTime'].dt.dayofyear\n",
        "df['month'] = df['DateTime'].dt.month\n",
        "df['year'] = df['DateTime'].dt.year\n",
        "\n",
        "# Display the first few rows with the new features\n",
        "display(df.head())"
      ],
      "execution_count": 6,
      "outputs": [
        {
          "output_type": "display_data",
          "data": {
            "text/plain": [
              "             DateTime Holiday  HolidayFlag  DayOfWeek  WeekOfYear  Day  Month  \\\n",
              "0 2011-11-01 00:00:00    None            0          1          44    1     11   \n",
              "1 2011-11-01 00:30:00    None            0          1          44    1     11   \n",
              "2 2011-11-01 01:00:00    None            0          1          44    1     11   \n",
              "3 2011-11-01 01:30:00    None            0          1          44    1     11   \n",
              "4 2011-11-01 02:00:00    None            0          1          44    1     11   \n",
              "\n",
              "   Year  PeriodOfDay  ForecastWindProduction  ...  ORKWindspeed  CO2Intensity  \\\n",
              "0  2011            0                  315.31  ...           9.3        600.71   \n",
              "1  2011            1                  321.80  ...          11.1        605.42   \n",
              "2  2011            2                  328.57  ...          11.1        589.97   \n",
              "3  2011            3                  335.60  ...           9.3        585.94   \n",
              "4  2011            4                  342.90  ...          11.1        571.52   \n",
              "\n",
              "   ActualWindProduction  SystemLoadEP2  SMPEP2  hour  dayofweek  dayofyear  \\\n",
              "0                 356.0        3159.60   54.32     0          1        305   \n",
              "1                 317.0        2973.01   54.23     0          1        305   \n",
              "2                 311.0        2834.00   54.23     1          1        305   \n",
              "3                 313.0        2725.99   53.47     1          1        305   \n",
              "4                 346.0        2655.64   39.87     2          1        305   \n",
              "\n",
              "   month  year  \n",
              "0     11  2011  \n",
              "1     11  2011  \n",
              "2     11  2011  \n",
              "3     11  2011  \n",
              "4     11  2011  \n",
              "\n",
              "[5 rows x 23 columns]"
            ],
            "text/html": [
              "\n",
              "  <div id=\"df-f8c57144-c5fc-49e0-8913-a5918da8cdd5\" class=\"colab-df-container\">\n",
              "    <div>\n",
              "<style scoped>\n",
              "    .dataframe tbody tr th:only-of-type {\n",
              "        vertical-align: middle;\n",
              "    }\n",
              "\n",
              "    .dataframe tbody tr th {\n",
              "        vertical-align: top;\n",
              "    }\n",
              "\n",
              "    .dataframe thead th {\n",
              "        text-align: right;\n",
              "    }\n",
              "</style>\n",
              "<table border=\"1\" class=\"dataframe\">\n",
              "  <thead>\n",
              "    <tr style=\"text-align: right;\">\n",
              "      <th></th>\n",
              "      <th>DateTime</th>\n",
              "      <th>Holiday</th>\n",
              "      <th>HolidayFlag</th>\n",
              "      <th>DayOfWeek</th>\n",
              "      <th>WeekOfYear</th>\n",
              "      <th>Day</th>\n",
              "      <th>Month</th>\n",
              "      <th>Year</th>\n",
              "      <th>PeriodOfDay</th>\n",
              "      <th>ForecastWindProduction</th>\n",
              "      <th>...</th>\n",
              "      <th>ORKWindspeed</th>\n",
              "      <th>CO2Intensity</th>\n",
              "      <th>ActualWindProduction</th>\n",
              "      <th>SystemLoadEP2</th>\n",
              "      <th>SMPEP2</th>\n",
              "      <th>hour</th>\n",
              "      <th>dayofweek</th>\n",
              "      <th>dayofyear</th>\n",
              "      <th>month</th>\n",
              "      <th>year</th>\n",
              "    </tr>\n",
              "  </thead>\n",
              "  <tbody>\n",
              "    <tr>\n",
              "      <th>0</th>\n",
              "      <td>2011-11-01 00:00:00</td>\n",
              "      <td>None</td>\n",
              "      <td>0</td>\n",
              "      <td>1</td>\n",
              "      <td>44</td>\n",
              "      <td>1</td>\n",
              "      <td>11</td>\n",
              "      <td>2011</td>\n",
              "      <td>0</td>\n",
              "      <td>315.31</td>\n",
              "      <td>...</td>\n",
              "      <td>9.3</td>\n",
              "      <td>600.71</td>\n",
              "      <td>356.0</td>\n",
              "      <td>3159.60</td>\n",
              "      <td>54.32</td>\n",
              "      <td>0</td>\n",
              "      <td>1</td>\n",
              "      <td>305</td>\n",
              "      <td>11</td>\n",
              "      <td>2011</td>\n",
              "    </tr>\n",
              "    <tr>\n",
              "      <th>1</th>\n",
              "      <td>2011-11-01 00:30:00</td>\n",
              "      <td>None</td>\n",
              "      <td>0</td>\n",
              "      <td>1</td>\n",
              "      <td>44</td>\n",
              "      <td>1</td>\n",
              "      <td>11</td>\n",
              "      <td>2011</td>\n",
              "      <td>1</td>\n",
              "      <td>321.80</td>\n",
              "      <td>...</td>\n",
              "      <td>11.1</td>\n",
              "      <td>605.42</td>\n",
              "      <td>317.0</td>\n",
              "      <td>2973.01</td>\n",
              "      <td>54.23</td>\n",
              "      <td>0</td>\n",
              "      <td>1</td>\n",
              "      <td>305</td>\n",
              "      <td>11</td>\n",
              "      <td>2011</td>\n",
              "    </tr>\n",
              "    <tr>\n",
              "      <th>2</th>\n",
              "      <td>2011-11-01 01:00:00</td>\n",
              "      <td>None</td>\n",
              "      <td>0</td>\n",
              "      <td>1</td>\n",
              "      <td>44</td>\n",
              "      <td>1</td>\n",
              "      <td>11</td>\n",
              "      <td>2011</td>\n",
              "      <td>2</td>\n",
              "      <td>328.57</td>\n",
              "      <td>...</td>\n",
              "      <td>11.1</td>\n",
              "      <td>589.97</td>\n",
              "      <td>311.0</td>\n",
              "      <td>2834.00</td>\n",
              "      <td>54.23</td>\n",
              "      <td>1</td>\n",
              "      <td>1</td>\n",
              "      <td>305</td>\n",
              "      <td>11</td>\n",
              "      <td>2011</td>\n",
              "    </tr>\n",
              "    <tr>\n",
              "      <th>3</th>\n",
              "      <td>2011-11-01 01:30:00</td>\n",
              "      <td>None</td>\n",
              "      <td>0</td>\n",
              "      <td>1</td>\n",
              "      <td>44</td>\n",
              "      <td>1</td>\n",
              "      <td>11</td>\n",
              "      <td>2011</td>\n",
              "      <td>3</td>\n",
              "      <td>335.60</td>\n",
              "      <td>...</td>\n",
              "      <td>9.3</td>\n",
              "      <td>585.94</td>\n",
              "      <td>313.0</td>\n",
              "      <td>2725.99</td>\n",
              "      <td>53.47</td>\n",
              "      <td>1</td>\n",
              "      <td>1</td>\n",
              "      <td>305</td>\n",
              "      <td>11</td>\n",
              "      <td>2011</td>\n",
              "    </tr>\n",
              "    <tr>\n",
              "      <th>4</th>\n",
              "      <td>2011-11-01 02:00:00</td>\n",
              "      <td>None</td>\n",
              "      <td>0</td>\n",
              "      <td>1</td>\n",
              "      <td>44</td>\n",
              "      <td>1</td>\n",
              "      <td>11</td>\n",
              "      <td>2011</td>\n",
              "      <td>4</td>\n",
              "      <td>342.90</td>\n",
              "      <td>...</td>\n",
              "      <td>11.1</td>\n",
              "      <td>571.52</td>\n",
              "      <td>346.0</td>\n",
              "      <td>2655.64</td>\n",
              "      <td>39.87</td>\n",
              "      <td>2</td>\n",
              "      <td>1</td>\n",
              "      <td>305</td>\n",
              "      <td>11</td>\n",
              "      <td>2011</td>\n",
              "    </tr>\n",
              "  </tbody>\n",
              "</table>\n",
              "<p>5 rows × 23 columns</p>\n",
              "</div>\n",
              "    <div class=\"colab-df-buttons\">\n",
              "\n",
              "  <div class=\"colab-df-container\">\n",
              "    <button class=\"colab-df-convert\" onclick=\"convertToInteractive('df-f8c57144-c5fc-49e0-8913-a5918da8cdd5')\"\n",
              "            title=\"Convert this dataframe to an interactive table.\"\n",
              "            style=\"display:none;\">\n",
              "\n",
              "  <svg xmlns=\"http://www.w3.org/2000/svg\" height=\"24px\" viewBox=\"0 -960 960 960\">\n",
              "    <path d=\"M120-120v-720h720v720H120Zm60-500h600v-160H180v160Zm220 220h160v-160H400v160Zm0 220h160v-160H400v160ZM180-400h160v-160H180v160Zm440 0h160v-160H620v160ZM180-180h160v-160H180v160Zm440 0h160v-160H620v160Z\"/>\n",
              "  </svg>\n",
              "    </button>\n",
              "\n",
              "  <style>\n",
              "    .colab-df-container {\n",
              "      display:flex;\n",
              "      gap: 12px;\n",
              "    }\n",
              "\n",
              "    .colab-df-convert {\n",
              "      background-color: #E8F0FE;\n",
              "      border: none;\n",
              "      border-radius: 50%;\n",
              "      cursor: pointer;\n",
              "      display: none;\n",
              "      fill: #1967D2;\n",
              "      height: 32px;\n",
              "      padding: 0 0 0 0;\n",
              "      width: 32px;\n",
              "    }\n",
              "\n",
              "    .colab-df-convert:hover {\n",
              "      background-color: #E2EBFA;\n",
              "      box-shadow: 0px 1px 2px rgba(60, 64, 67, 0.3), 0px 1px 3px 1px rgba(60, 64, 67, 0.15);\n",
              "      fill: #174EA6;\n",
              "    }\n",
              "\n",
              "    .colab-df-buttons div {\n",
              "      margin-bottom: 4px;\n",
              "    }\n",
              "\n",
              "    [theme=dark] .colab-df-convert {\n",
              "      background-color: #3B4455;\n",
              "      fill: #D2E3FC;\n",
              "    }\n",
              "\n",
              "    [theme=dark] .colab-df-convert:hover {\n",
              "      background-color: #434B5C;\n",
              "      box-shadow: 0px 1px 3px 1px rgba(0, 0, 0, 0.15);\n",
              "      filter: drop-shadow(0px 1px 2px rgba(0, 0, 0, 0.3));\n",
              "      fill: #FFFFFF;\n",
              "    }\n",
              "  </style>\n",
              "\n",
              "    <script>\n",
              "      const buttonEl =\n",
              "        document.querySelector('#df-f8c57144-c5fc-49e0-8913-a5918da8cdd5 button.colab-df-convert');\n",
              "      buttonEl.style.display =\n",
              "        google.colab.kernel.accessAllowed ? 'block' : 'none';\n",
              "\n",
              "      async function convertToInteractive(key) {\n",
              "        const element = document.querySelector('#df-f8c57144-c5fc-49e0-8913-a5918da8cdd5');\n",
              "        const dataTable =\n",
              "          await google.colab.kernel.invokeFunction('convertToInteractive',\n",
              "                                                    [key], {});\n",
              "        if (!dataTable) return;\n",
              "\n",
              "        const docLinkHtml = 'Like what you see? Visit the ' +\n",
              "          '<a target=\"_blank\" href=https://colab.research.google.com/notebooks/data_table.ipynb>data table notebook</a>'\n",
              "          + ' to learn more about interactive tables.';\n",
              "        element.innerHTML = '';\n",
              "        dataTable['output_type'] = 'display_data';\n",
              "        await google.colab.output.renderOutput(dataTable, element);\n",
              "        const docLink = document.createElement('div');\n",
              "        docLink.innerHTML = docLinkHtml;\n",
              "        element.appendChild(docLink);\n",
              "      }\n",
              "    </script>\n",
              "  </div>\n",
              "\n",
              "\n",
              "    <div id=\"df-e4df3441-8e6a-4836-abe0-ce0bd0fa1373\">\n",
              "      <button class=\"colab-df-quickchart\" onclick=\"quickchart('df-e4df3441-8e6a-4836-abe0-ce0bd0fa1373')\"\n",
              "                title=\"Suggest charts\"\n",
              "                style=\"display:none;\">\n",
              "\n",
              "<svg xmlns=\"http://www.w3.org/2000/svg\" height=\"24px\"viewBox=\"0 0 24 24\"\n",
              "     width=\"24px\">\n",
              "    <g>\n",
              "        <path d=\"M19 3H5c-1.1 0-2 .9-2 2v14c0 1.1.9 2 2 2h14c1.1 0 2-.9 2-2V5c0-1.1-.9-2-2-2zM9 17H7v-7h2v7zm4 0h-2V7h2v10zm4 0h-2v-4h2v4z\"/>\n",
              "    </g>\n",
              "</svg>\n",
              "      </button>\n",
              "\n",
              "<style>\n",
              "  .colab-df-quickchart {\n",
              "      --bg-color: #E8F0FE;\n",
              "      --fill-color: #1967D2;\n",
              "      --hover-bg-color: #E2EBFA;\n",
              "      --hover-fill-color: #174EA6;\n",
              "      --disabled-fill-color: #AAA;\n",
              "      --disabled-bg-color: #DDD;\n",
              "  }\n",
              "\n",
              "  [theme=dark] .colab-df-quickchart {\n",
              "      --bg-color: #3B4455;\n",
              "      --fill-color: #D2E3FC;\n",
              "      --hover-bg-color: #434B5C;\n",
              "      --hover-fill-color: #FFFFFF;\n",
              "      --disabled-bg-color: #3B4455;\n",
              "      --disabled-fill-color: #666;\n",
              "  }\n",
              "\n",
              "  .colab-df-quickchart {\n",
              "    background-color: var(--bg-color);\n",
              "    border: none;\n",
              "    border-radius: 50%;\n",
              "    cursor: pointer;\n",
              "    display: none;\n",
              "    fill: var(--fill-color);\n",
              "    height: 32px;\n",
              "    padding: 0;\n",
              "    width: 32px;\n",
              "  }\n",
              "\n",
              "  .colab-df-quickchart:hover {\n",
              "    background-color: var(--hover-bg-color);\n",
              "    box-shadow: 0 1px 2px rgba(60, 64, 67, 0.3), 0 1px 3px 1px rgba(60, 64, 67, 0.15);\n",
              "    fill: var(--button-hover-fill-color);\n",
              "  }\n",
              "\n",
              "  .colab-df-quickchart-complete:disabled,\n",
              "  .colab-df-quickchart-complete:disabled:hover {\n",
              "    background-color: var(--disabled-bg-color);\n",
              "    fill: var(--disabled-fill-color);\n",
              "    box-shadow: none;\n",
              "  }\n",
              "\n",
              "  .colab-df-spinner {\n",
              "    border: 2px solid var(--fill-color);\n",
              "    border-color: transparent;\n",
              "    border-bottom-color: var(--fill-color);\n",
              "    animation:\n",
              "      spin 1s steps(1) infinite;\n",
              "  }\n",
              "\n",
              "  @keyframes spin {\n",
              "    0% {\n",
              "      border-color: transparent;\n",
              "      border-bottom-color: var(--fill-color);\n",
              "      border-left-color: var(--fill-color);\n",
              "    }\n",
              "    20% {\n",
              "      border-color: transparent;\n",
              "      border-left-color: var(--fill-color);\n",
              "      border-top-color: var(--fill-color);\n",
              "    }\n",
              "    30% {\n",
              "      border-color: transparent;\n",
              "      border-left-color: var(--fill-color);\n",
              "      border-top-color: var(--fill-color);\n",
              "      border-right-color: var(--fill-color);\n",
              "    }\n",
              "    40% {\n",
              "      border-color: transparent;\n",
              "      border-right-color: var(--fill-color);\n",
              "      border-top-color: var(--fill-color);\n",
              "    }\n",
              "    60% {\n",
              "      border-color: transparent;\n",
              "      border-right-color: var(--fill-color);\n",
              "    }\n",
              "    80% {\n",
              "      border-color: transparent;\n",
              "      border-right-color: var(--fill-color);\n",
              "      border-bottom-color: var(--fill-color);\n",
              "    }\n",
              "    90% {\n",
              "      border-color: transparent;\n",
              "      border-bottom-color: var(--fill-color);\n",
              "    }\n",
              "  }\n",
              "</style>\n",
              "\n",
              "      <script>\n",
              "        async function quickchart(key) {\n",
              "          const quickchartButtonEl =\n",
              "            document.querySelector('#' + key + ' button');\n",
              "          quickchartButtonEl.disabled = true;  // To prevent multiple clicks.\n",
              "          quickchartButtonEl.classList.add('colab-df-spinner');\n",
              "          try {\n",
              "            const charts = await google.colab.kernel.invokeFunction(\n",
              "                'suggestCharts', [key], {});\n",
              "          } catch (error) {\n",
              "            console.error('Error during call to suggestCharts:', error);\n",
              "          }\n",
              "          quickchartButtonEl.classList.remove('colab-df-spinner');\n",
              "          quickchartButtonEl.classList.add('colab-df-quickchart-complete');\n",
              "        }\n",
              "        (() => {\n",
              "          let quickchartButtonEl =\n",
              "            document.querySelector('#df-e4df3441-8e6a-4836-abe0-ce0bd0fa1373 button');\n",
              "          quickchartButtonEl.style.display =\n",
              "            google.colab.kernel.accessAllowed ? 'block' : 'none';\n",
              "        })();\n",
              "      </script>\n",
              "    </div>\n",
              "\n",
              "    </div>\n",
              "  </div>\n"
            ],
            "application/vnd.google.colaboratory.intrinsic+json": {
              "type": "dataframe"
            }
          },
          "metadata": {}
        }
      ]
    },
    {
      "cell_type": "markdown",
      "metadata": {
        "id": "723d38bf"
      },
      "source": [
        "## Split the data\n",
        "\n",
        "### Subtask:\n",
        "Split the dataset into training and testing sets."
      ]
    },
    {
      "cell_type": "code",
      "metadata": {
        "colab": {
          "base_uri": "https://localhost:8080/"
        },
        "id": "291b567e",
        "outputId": "2482fe07-7776-43ed-b64f-595016b7755a"
      },
      "source": [
        "from sklearn.model_selection import train_test_split\n",
        "\n",
        "# Define features (X) and target (y)\n",
        "# We will drop the original DateTime and Holiday columns as we have extracted relevant features\n",
        "# We also drop the original Day, Month, Year, DayOfWeek, WeekOfYear, PeriodOfDay columns as we have created new time-based features\n",
        "# The target variable is 'SMPEP2' (electricity price)\n",
        "X = df.drop(['DateTime', 'Holiday', 'Day', 'Month', 'Year', 'DayOfWeek', 'WeekOfYear', 'PeriodOfDay', 'SMPEP2'], axis=1)\n",
        "y = df['SMPEP2']\n",
        "\n",
        "# Split the data into training and testing sets (e.g., 80% train, 20% test)\n",
        "X_train, X_test, y_train, y_test = train_test_split(X, y, test_size=0.2, random_state=42)\n",
        "\n",
        "print(\"Training set shape (X_train, y_train):\", X_train.shape, y_train.shape)\n",
        "print(\"Testing set shape (X_test, y_test):\", X_test.shape, y_test.shape)"
      ],
      "execution_count": 7,
      "outputs": [
        {
          "output_type": "stream",
          "name": "stdout",
          "text": [
            "Training set shape (X_train, y_train): (30411, 14) (30411,)\n",
            "Testing set shape (X_test, y_test): (7603, 14) (7603,)\n"
          ]
        }
      ]
    },
    {
      "cell_type": "markdown",
      "metadata": {
        "id": "07b6e29c"
      },
      "source": [
        "## Choose and Train the model\n",
        "\n",
        "### Subtask:\n",
        "Train a LightGBM regressor model on the training data."
      ]
    },
    {
      "cell_type": "code",
      "metadata": {
        "colab": {
          "base_uri": "https://localhost:8080/"
        },
        "id": "dc21c2e6",
        "outputId": "20daedd0-e25e-4b71-e0d0-843c32ea63f9"
      },
      "source": [
        "import lightgbm as lgb\n",
        "\n",
        "# Initialize the LightGBM Regressor model\n",
        "lgb_model = lgb.LGBMRegressor(random_state=42)\n",
        "\n",
        "# Train the model on the training data\n",
        "lgb_model.fit(X_train, y_train)\n",
        "\n",
        "print(\"LightGBM model trained successfully!\")"
      ],
      "execution_count": 8,
      "outputs": [
        {
          "output_type": "stream",
          "name": "stdout",
          "text": [
            "[LightGBM] [Info] Auto-choosing row-wise multi-threading, the overhead of testing was 0.001363 seconds.\n",
            "You can set `force_row_wise=true` to remove the overhead.\n",
            "And if memory is not enough, you can set `force_col_wise=true`.\n",
            "[LightGBM] [Info] Total Bins 1880\n",
            "[LightGBM] [Info] Number of data points in the train set: 30411, number of used features: 14\n",
            "[LightGBM] [Info] Start training from score 64.215527\n",
            "LightGBM model trained successfully!\n"
          ]
        }
      ]
    },
    {
      "cell_type": "markdown",
      "metadata": {
        "id": "93ce95d6"
      },
      "source": [
        "## Evaluate the model\n",
        "\n",
        "### Subtask:\n",
        "Evaluate the trained model on the testing data."
      ]
    },
    {
      "cell_type": "code",
      "metadata": {
        "colab": {
          "base_uri": "https://localhost:8080/"
        },
        "id": "cb45b2a5",
        "outputId": "e1a6b379-6d2d-419f-8ad7-4f7a050b4b6b"
      },
      "source": [
        "from sklearn.metrics import mean_absolute_error, mean_squared_error\n",
        "import numpy as np\n",
        "\n",
        "# Make predictions on the testing data\n",
        "y_pred = lgb_model.predict(X_test)\n",
        "\n",
        "# Calculate evaluation metrics\n",
        "mae = mean_absolute_error(y_test, y_pred)\n",
        "rmse = np.sqrt(mean_squared_error(y_test, y_pred))\n",
        "\n",
        "print(f\"Mean Absolute Error (MAE): {mae:.2f}\")\n",
        "print(f\"Root Mean Squared Error (RMSE): {rmse:.2f}\")"
      ],
      "execution_count": 9,
      "outputs": [
        {
          "output_type": "stream",
          "name": "stdout",
          "text": [
            "Mean Absolute Error (MAE): 12.02\n",
            "Root Mean Squared Error (RMSE): 23.24\n"
          ]
        }
      ]
    },
    {
      "cell_type": "markdown",
      "metadata": {
        "id": "b09007e5"
      },
      "source": [
        "## Investigate Outliers\n",
        "\n",
        "### Subtask:\n",
        "Visualize the target variable and key features to identify outliers or high-variance data points."
      ]
    },
    {
      "cell_type": "code",
      "metadata": {
        "colab": {
          "base_uri": "https://localhost:8080/",
          "height": 1000
        },
        "id": "50562519",
        "outputId": "0fcadccc-bf9b-4bb4-9227-94e109a93852"
      },
      "source": [
        "import matplotlib.pyplot as plt\n",
        "import seaborn as sns\n",
        "\n",
        "# Visualize the distribution of the target variable ('SMPEP2')\n",
        "plt.figure(figsize=(10, 6))\n",
        "sns.histplot(df['SMPEP2'], kde=True)\n",
        "plt.title('Distribution of Electricity Price (SMPEP2)')\n",
        "plt.xlabel('Electricity Price')\n",
        "plt.ylabel('Frequency')\n",
        "plt.show()\n",
        "\n",
        "# Visualize a box plot of the target variable to identify outliers\n",
        "plt.figure(figsize=(10, 6))\n",
        "sns.boxplot(y=df['SMPEP2'])\n",
        "plt.title('Box Plot of Electricity Price (SMPEP2)')\n",
        "plt.ylabel('Electricity Price')\n",
        "plt.show()\n",
        "\n",
        "# You can also visualize key features for outliers, for example:\n",
        "# sns.boxplot(y=df['SystemLoadEP2'])\n",
        "# plt.title('Box Plot of SystemLoadEP2')\n",
        "# plt.ylabel('System Load EP2')\n",
        "# plt.show()\n",
        "\n",
        "# sns.boxplot(y=df['ActualWindProduction'])\n",
        "# plt.title('Box Plot of ActualWindProduction')\n",
        "# plt.ylabel('Actual Wind Production')\n",
        "# plt.show()"
      ],
      "execution_count": 10,
      "outputs": [
        {
          "output_type": "display_data",
          "data": {
            "text/plain": [
              "<Figure size 1000x600 with 1 Axes>"
            ],
            "image/png": "[encoded data removed]"
          },
          "metadata": {}
        },
        {
          "output_type": "display_data",
          "data": {
            "text/plain": [
              "<Figure size 1000x600 with 1 Axes>"
            ],
            "image/png": "[encoded data removed]"
          },
          "metadata": {}
        }
      ]
    },
    {
      "cell_type": "markdown",
      "metadata": {
        "id": "61ef4123"
      },
      "source": [
        "## Apply Log Transformation to Target Variable\n",
        "\n",
        "### Subtask:\n",
        "Apply a log transformation to the target variable (SMPEP2) in the training and testing sets."
      ]
    },
    {
      "cell_type": "code",
      "metadata": {
        "colab": {
          "base_uri": "https://localhost:8080/",
          "height": 616
        },
        "id": "278d5f10",
        "outputId": "7d10263c-8d1e-4511-8b79-adf78b80be14"
      },
      "source": [
        "import numpy as np\n",
        "\n",
        "# Apply log transformation to the target variable (adding 1 to handle potential zero values)\n",
        "y_train_transformed = np.log1p(y_train)\n",
        "y_test_transformed = np.log1p(y_test)\n",
        "\n",
        "# Display the distribution of the transformed target variable\n",
        "plt.figure(figsize=(10, 6))\n",
        "sns.histplot(y_train_transformed, kde=True)\n",
        "plt.title('Distribution of Log-Transformed Electricity Price (SMPEP2)')\n",
        "plt.xlabel('Log-Transformed Electricity Price')\n",
        "plt.ylabel('Frequency')\n",
        "plt.show()\n",
        "\n",
        "print(\"Log transformation applied to y_train and y_test.\")"
      ],
      "execution_count": 11,
      "outputs": [
        {
          "output_type": "stream",
          "name": "stderr",
          "text": [
            "/usr/local/lib/python3.11/dist-packages/pandas/core/arraylike.py:399: RuntimeWarning: invalid value encountered in log1p\n",
            "  result = getattr(ufunc, method)(*inputs, **kwargs)\n"
          ]
        },
        {
          "output_type": "display_data",
          "data": {
            "text/plain": [
              "<Figure size 1000x600 with 1 Axes>"
            ],
            "image/png": "[encoded data removed]"
          },
          "metadata": {}
        },
        {
          "output_type": "stream",
          "name": "stdout",
          "text": [
            "Log transformation applied to y_train and y_test.\n"
          ]
        }
      ]
    },
    {
      "cell_type": "code",
      "metadata": {
        "colab": {
          "base_uri": "https://localhost:8080/"
        },
        "id": "9bf49aed",
        "outputId": "1f86b0cb-8c82-4371-dc7e-4c6061960c4e"
      },
      "source": [
        "# Check for non-finite values in y_train and y_test\n",
        "print(\"Non-finite values in y_train:\", y_train[~np.isfinite(y_train)].sum())\n",
        "print(\"Non-finite values in y_test:\", y_test[~np.isfinite(y_test)].sum())"
      ],
      "execution_count": 12,
      "outputs": [
        {
          "output_type": "stream",
          "name": "stdout",
          "text": [
            "Non-finite values in y_train: 0.0\n",
            "Non-finite values in y_test: 0.0\n"
          ]
        }
      ]
    },
    {
      "cell_type": "markdown",
      "metadata": {
        "id": "9295c704"
      },
      "source": [
        "## Retrain Model with Log-Transformed Target\n",
        "\n",
        "### Subtask:\n",
        "Train the LightGBM regressor model using the log-transformed target variable."
      ]
    },
    {
      "cell_type": "code",
      "metadata": {
        "colab": {
          "base_uri": "https://localhost:8080/"
        },
        "id": "2715ed36",
        "outputId": "59629d90-ad92-4a6e-edd0-5fa25669283b"
      },
      "source": [
        "# Initialize the LightGBM Regressor model\n",
        "lgb_model_transformed = lgb.LGBMRegressor(random_state=42)\n",
        "\n",
        "# Train the model on the training data with the transformed target\n",
        "lgb_model_transformed.fit(X_train, y_train_transformed)\n",
        "\n",
        "print(\"LightGBM model trained successfully with log-transformed target!\")"
      ],
      "execution_count": 13,
      "outputs": [
        {
          "output_type": "stream",
          "name": "stdout",
          "text": [
            "[LightGBM] [Info] Auto-choosing row-wise multi-threading, the overhead of testing was 0.001340 seconds.\n",
            "You can set `force_row_wise=true` to remove the overhead.\n",
            "And if memory is not enough, you can set `force_col_wise=true`.\n",
            "[LightGBM] [Info] Total Bins 1880\n",
            "[LightGBM] [Info] Number of data points in the train set: 30411, number of used features: 14\n",
            "[LightGBM] [Info] Start training from score 4.085977\n",
            "LightGBM model trained successfully with log-transformed target!\n"
          ]
        }
      ]
    },
    {
      "cell_type": "markdown",
      "metadata": {
        "id": "47dbf8d9"
      },
      "source": [
        "## Evaluate Model with Log-Transformed Target\n",
        "\n",
        "### Subtask:\n",
        "Evaluate the retrained model on the testing data, inverse transforming predictions."
      ]
    },
    {
      "cell_type": "code",
      "metadata": {
        "colab": {
          "base_uri": "https://localhost:8080/"
        },
        "id": "876ee1c6",
        "outputId": "09fb8391-5e21-4d66-d8bc-7b4cec7cffce"
      },
      "source": [
        "from sklearn.metrics import mean_absolute_error, mean_squared_error\n",
        "import numpy as np\n",
        "\n",
        "# Make predictions on the testing data using the model trained on the transformed target\n",
        "y_pred_transformed = lgb_model_transformed.predict(X_test)\n",
        "\n",
        "# Inverse transform the predictions back to the original scale\n",
        "# We use np.expm1 which is the inverse of np.log1p\n",
        "y_pred_original_scale = np.expm1(y_pred_transformed)\n",
        "\n",
        "# Calculate evaluation metrics on the original scale\n",
        "mae_transformed = mean_absolute_error(y_test, y_pred_original_scale)\n",
        "rmse_transformed = np.sqrt(mean_squared_error(y_test, y_pred_original_scale))\n",
        "\n",
        "print(f\"Mean Absolute Error (MAE) with log transformation: {mae_transformed:.2f}\")\n",
        "print(f\"Root Mean Squared Error (RMSE) with log transformation: {rmse_transformed:.2f}\")"
      ],
      "execution_count": 14,
      "outputs": [
        {
          "output_type": "stream",
          "name": "stdout",
          "text": [
            "Mean Absolute Error (MAE) with log transformation: 11.41\n",
            "Root Mean Squared Error (RMSE) with log transformation: 23.44\n"
          ]
        }
      ]
    },
    {
      "cell_type": "markdown",
      "metadata": {
        "id": "f817f123"
      },
      "source": [
        "## Hyperparameter Tuning with Cross-Validation\n",
        "\n",
        "### Subtask:\n",
        "Perform cross-validation and hyperparameter tuning for the LightGBM model."
      ]
    },
    {
      "cell_type": "code",
      "metadata": {
        "colab": {
          "base_uri": "https://localhost:8080/"
        },
        "id": "ef277917",
        "outputId": "43c685d8-9d43-4b25-9e96-6dd5a3ecede3"
      },
      "source": [
        "from sklearn.model_selection import KFold\n",
        "from sklearn.model_selection import GridSearchCV\n",
        "import lightgbm as lgb\n",
        "\n",
        "# Define the parameter grid to search\n",
        "param_grid = {\n",
        "    'n_estimators': [100, 200, 300],  # Number of boosting rounds\n",
        "    'learning_rate': [0.01, 0.05, 0.1], # Step size shrinkage\n",
        "    'num_leaves': [31, 63],           # Maximum tree leaves for the base learner\n",
        "    'max_depth': [-1, 10, 20]         # Maximum tree depth for the base learner\n",
        "}\n",
        "\n",
        "# Initialize the LightGBM Regressor model\n",
        "lgb_model_tuned = lgb.LGBMRegressor(random_state=42)\n",
        "\n",
        "# Initialize K-Fold Cross Validation\n",
        "kf = KFold(n_splits=5, shuffle=True, random_state=42)\n",
        "\n",
        "# Initialize GridSearchCV\n",
        "grid_search = GridSearchCV(estimator=lgb_model_tuned, param_grid=param_grid,\n",
        "                           scoring='neg_mean_squared_error', cv=kf, verbose=1, n_jobs=-1)\n",
        "\n",
        "# Perform GridSearchCV on the training data\n",
        "# We will use the original y_train for tuning as GridSearchCV handles the scoring internally\n",
        "# If we were using a custom scoring function that required the inverse transform,\n",
        "# we would need to adjust accordingly.\n",
        "grid_search.fit(X_train, y_train)\n",
        "\n",
        "# Get the best parameters and the best score\n",
        "best_params = grid_search.best_params_\n",
        "best_rmse = np.sqrt(-grid_search.best_score_)\n",
        "\n",
        "print(f\"Best parameters found: {best_params}\")\n",
        "print(f\"Best RMSE found during cross-validation: {best_rmse:.2f}\")\n",
        "\n",
        "# Train the final model with the best parameters\n",
        "final_lgb_model = lgb.LGBMRegressor(**best_params, random_state=42)\n",
        "final_lgb_model.fit(X_train, y_train)\n",
        "\n",
        "print(\"\\nFinal LightGBM model trained with best parameters!\")"
      ],
      "execution_count": 15,
      "outputs": [
        {
          "output_type": "stream",
          "name": "stdout",
          "text": [
            "Fitting 5 folds for each of 54 candidates, totalling 270 fits\n",
            "[LightGBM] [Info] Auto-choosing col-wise multi-threading, the overhead of testing was 0.008772 seconds.\n",
            "You can set `force_col_wise=true` to remove the overhead.\n",
            "[LightGBM] [Info] Total Bins 1880\n",
            "[LightGBM] [Info] Number of data points in the train set: 30411, number of used features: 14\n",
            "[LightGBM] [Info] Start training from score 64.215527\n",
            "Best parameters found: {'learning_rate': 0.1, 'max_depth': -1, 'n_estimators': 300, 'num_leaves': 63}\n",
            "Best RMSE found during cross-validation: 22.70\n",
            "[LightGBM] [Info] Auto-choosing row-wise multi-threading, the overhead of testing was 0.002169 seconds.\n",
            "You can set `force_row_wise=true` to remove the overhead.\n",
            "And if memory is not enough, you can set `force_col_wise=true`.\n",
            "[LightGBM] [Info] Total Bins 1880\n",
            "[LightGBM] [Info] Number of data points in the train set: 30411, number of used features: 14\n",
            "[LightGBM] [Info] Start training from score 64.215527\n",
            "\n",
            "Final LightGBM model trained with best parameters!\n"
          ]
        }
      ]
    },
    {
      "cell_type": "markdown",
      "metadata": {
        "id": "57a88f2f"
      },
      "source": [
        "## Evaluate Tuned Model\n",
        "\n",
        "### Subtask:\n",
        "Evaluate the tuned LightGBM model on the testing data."
      ]
    },
    {
      "cell_type": "code",
      "metadata": {
        "colab": {
          "base_uri": "https://localhost:8080/"
        },
        "id": "0f881ba1",
        "outputId": "6fb9e4f8-4df4-4eb3-d2e1-c8f04e475d62"
      },
      "source": [
        "from sklearn.metrics import mean_absolute_error, mean_squared_error\n",
        "import numpy as np\n",
        "\n",
        "# Make predictions on the testing data using the final tuned model\n",
        "y_pred_tuned = final_lgb_model.predict(X_test)\n",
        "\n",
        "# Calculate evaluation metrics\n",
        "mae_tuned = mean_absolute_error(y_test, y_pred_tuned)\n",
        "rmse_tuned = np.sqrt(mean_squared_error(y_test, y_pred_tuned))\n",
        "\n",
        "print(f\"Mean Absolute Error (MAE) with tuned model: {mae_tuned:.2f}\")\n",
        "print(f\"Root Mean Squared Error (RMSE) with tuned model: {rmse_tuned:.2f}\")"
      ],
      "execution_count": 16,
      "outputs": [
        {
          "output_type": "stream",
          "name": "stdout",
          "text": [
            "Mean Absolute Error (MAE) with tuned model: 9.87\n",
            "Root Mean Squared Error (RMSE) with tuned model: 21.91\n"
          ]
        }
      ]
    },
    {
      "cell_type": "markdown",
      "metadata": {
        "id": "d7b427cb"
      },
      "source": [
        "## Visualize Tuned Model Predictions\n",
        "\n",
        "### Subtask:\n",
        "Visualize the actual electricity prices and the tuned model's predictions."
      ]
    },
    {
      "cell_type": "code",
      "metadata": {
        "colab": {
          "base_uri": "https://localhost:8080/",
          "height": 575
        },
        "id": "78d47682",
        "outputId": "6e9acabb-e407-4f76-f1d5-8f988ba54dc9"
      },
      "source": [
        "import matplotlib.pyplot as plt\n",
        "import seaborn as sns\n",
        "\n",
        "# Create a DataFrame to easily plot actual vs predicted values\n",
        "results_df = pd.DataFrame({'Actual': y_test, 'Predicted': y_pred_tuned})\n",
        "\n",
        "# Sort by DateTime if available and relevant, or by index\n",
        "results_df = results_df.sort_index()\n",
        "\n",
        "\n",
        "# Visualize actual vs. predicted prices (plotting a subset for clarity if the test set is large)\n",
        "plt.figure(figsize=(14, 7))\n",
        "plt.plot(results_df['Actual'].head(500), label='Actual Prices')\n",
        "plt.plot(results_df['Predicted'].head(500), label='Predicted Prices')\n",
        "plt.title('Actual vs. Predicted Electricity Prices (Tuned Model - Subset)')\n",
        "plt.xlabel('Time Index')\n",
        "plt.ylabel('Electricity Price (SMPEP2)')\n",
        "plt.legend()\n",
        "plt.show()\n",
        "\n",
        "# You could also visualize a scatter plot of Actual vs. Predicted\n",
        "# plt.figure(figsize=(8, 8))\n",
        "# sns.scatterplot(x='Actual', y='Predicted', data=results_df)\n",
        "# plt.title('Actual vs. Predicted Electricity Prices (Tuned Model)')\n",
        "# plt.xlabel('Actual Prices')\n",
        "# plt.ylabel('Predicted Prices')\n",
        "# plt.show()"
      ],
      "execution_count": 17,
      "outputs": [
        {
          "output_type": "display_data",
          "data": {
            "text/plain": [
              "<Figure size 1400x700 with 1 Axes>"
            ],
            "image/png": "[encoded data removed]"
          },
          "metadata": {}
        }
      ]
    },
    {
      "cell_type": "markdown",
      "metadata": {
        "id": "b6729b5d"
      },
      "source": [
        "# Task\n",
        "Perform electricity price prediction using the dataset at \"https://raw.githubusercontent.com/amankharwal/Website-data/master/electricity.csv\". Build and evaluate a stacked ensemble model to improve prediction performance."
      ]
    },
    {
      "cell_type": "markdown",
      "metadata": {
        "id": "ebd0f042"
      },
      "source": [
        "## Define base models\n",
        "\n",
        "### Subtask:\n",
        "Choose a few diverse models to serve as base predictors (e.g., a Linear Regression, a Ridge Regression, and a tuned LightGBM or XGBoost).\n"
      ]
    },
    {
      "cell_type": "markdown",
      "metadata": {
        "id": "a17e3026"
      },
      "source": [
        "**Reasoning**:\n",
        "Instantiate the chosen base models (Linear Regression, Ridge Regression, and tuned LightGBM) and store them for later use.\n",
        "\n"
      ]
    },
    {
      "cell_type": "code",
      "metadata": {
        "colab": {
          "base_uri": "https://localhost:8080/"
        },
        "id": "106f1dda",
        "outputId": "80e66f32-7d0b-4dc3-8e4e-24b1d3b09617"
      },
      "source": [
        "from sklearn.linear_model import LinearRegression, Ridge\n",
        "import lightgbm as lgb\n",
        "\n",
        "# Instantiate the base models\n",
        "linear_regression_model = LinearRegression()\n",
        "ridge_regression_model = Ridge(random_state=42)\n",
        "lgbm_base_model = lgb.LGBMRegressor(**best_params, random_state=42)\n",
        "\n",
        "# Store the models in a list\n",
        "base_models = [\n",
        "    ('Linear Regression', linear_regression_model),\n",
        "    ('Ridge Regression', ridge_regression_model),\n",
        "    ('LightGBM', lgbm_base_model)\n",
        "]\n",
        "\n",
        "print(\"Base models instantiated and stored.\")"
      ],
      "execution_count": 18,
      "outputs": [
        {
          "output_type": "stream",
          "name": "stdout",
          "text": [
            "Base models instantiated and stored.\n"
          ]
        }
      ]
    },
    {
      "cell_type": "markdown",
      "metadata": {
        "id": "7cfb3e9b"
      },
      "source": [
        "## Train base models and generate out-of-fold predictions\n",
        "\n",
        "### Subtask:\n",
        "Train each base model on the training data using cross-validation. Generate out-of-fold predictions for the training data and predictions for the test data. These out-of-fold predictions will form the training data for the meta-model.\n"
      ]
    },
    {
      "cell_type": "markdown",
      "metadata": {
        "id": "c255cb32"
      },
      "source": [
        "**Reasoning**:\n",
        "Train each base model using cross-validation, generate out-of-fold predictions for the training data and predictions for the test data, and store them for the meta-model.\n",
        "\n"
      ]
    },
    {
      "cell_type": "code",
      "metadata": {
        "colab": {
          "base_uri": "https://localhost:8080/"
        },
        "id": "c1eacd77",
        "outputId": "648e488a-dd29-43eb-b167-f31b292f97e9"
      },
      "source": [
        "from sklearn.model_selection import KFold\n",
        "import numpy as np\n",
        "\n",
        "# Define the number of folds for cross-validation\n",
        "n_splits = 5\n",
        "\n",
        "# Initialize a KFold object\n",
        "kf = KFold(n_splits=n_splits, shuffle=True, random_state=42)\n",
        "\n",
        "# Create empty arrays to store out-of-fold predictions for training and predictions for testing\n",
        "oof_train_preds = np.zeros((X_train.shape[0], len(base_models)))\n",
        "test_preds = np.zeros((X_test.shape[0], len(base_models)))\n",
        "\n",
        "# Iterate through each base model\n",
        "for i, (name, model) in enumerate(base_models):\n",
        "    print(f\"Training {name} using cross-validation...\")\n",
        "\n",
        "    # Iterate through the folds\n",
        "    for fold, (train_index, val_index) in enumerate(kf.split(X_train, y_train)):\n",
        "        print(f\"  Fold {fold+1}/{n_splits}\")\n",
        "\n",
        "        # Split the training data into training and validation sets for the current fold\n",
        "        X_train_fold, X_val_fold = X_train.iloc[train_index], X_train.iloc[val_index]\n",
        "        y_train_fold, y_val_fold = y_train.iloc[train_index], y_train.iloc[val_index]\n",
        "\n",
        "        # Train the model on the training set of the current fold\n",
        "        model.fit(X_train_fold, y_train_fold)\n",
        "\n",
        "        # Generate predictions on the validation set of the current fold\n",
        "        oof_train_preds[val_index, i] = model.predict(X_val_fold)\n",
        "\n",
        "    # Train the model on the entire training dataset after cross-validation\n",
        "    model.fit(X_train, y_train)\n",
        "\n",
        "    # Generate predictions on the test dataset\n",
        "    test_preds[:, i] = model.predict(X_test)\n",
        "\n",
        "print(\"\\nOut-of-fold training predictions and test predictions generated.\")"
      ],
      "execution_count": 19,
      "outputs": [
        {
          "output_type": "stream",
          "name": "stdout",
          "text": [
            "Training Linear Regression using cross-validation...\n",
            "  Fold 1/5\n",
            "  Fold 2/5\n",
            "  Fold 3/5\n",
            "  Fold 4/5\n",
            "  Fold 5/5\n",
            "Training Ridge Regression using cross-validation...\n",
            "  Fold 1/5\n",
            "  Fold 2/5\n",
            "  Fold 3/5\n",
            "  Fold 4/5\n",
            "  Fold 5/5\n",
            "Training LightGBM using cross-validation...\n",
            "  Fold 1/5\n",
            "[LightGBM] [Info] Auto-choosing col-wise multi-threading, the overhead of testing was 0.006705 seconds.\n",
            "You can set `force_col_wise=true` to remove the overhead.\n",
            "[LightGBM] [Info] Total Bins 1882\n",
            "[LightGBM] [Info] Number of data points in the train set: 24328, number of used features: 14\n",
            "[LightGBM] [Info] Start training from score 64.320924\n",
            "  Fold 2/5\n",
            "[LightGBM] [Info] Auto-choosing row-wise multi-threading, the overhead of testing was 0.001009 seconds.\n",
            "You can set `force_row_wise=true` to remove the overhead.\n",
            "And if memory is not enough, you can set `force_col_wise=true`.\n",
            "[LightGBM] [Info] Total Bins 1878\n",
            "[LightGBM] [Info] Number of data points in the train set: 24329, number of used features: 14\n",
            "[LightGBM] [Info] Start training from score 63.987898\n",
            "  Fold 3/5\n",
            "[LightGBM] [Info] Auto-choosing row-wise multi-threading, the overhead of testing was 0.000996 seconds.\n",
            "You can set `force_row_wise=true` to remove the overhead.\n",
            "And if memory is not enough, you can set `force_col_wise=true`.\n",
            "[LightGBM] [Info] Total Bins 1881\n",
            "[LightGBM] [Info] Number of data points in the train set: 24329, number of used features: 14\n",
            "[LightGBM] [Info] Start training from score 64.287425\n",
            "  Fold 4/5\n",
            "[LightGBM] [Info] Auto-choosing row-wise multi-threading, the overhead of testing was 0.001837 seconds.\n",
            "You can set `force_row_wise=true` to remove the overhead.\n",
            "And if memory is not enough, you can set `force_col_wise=true`.\n",
            "[LightGBM] [Info] Total Bins 1880\n",
            "[LightGBM] [Info] Number of data points in the train set: 24329, number of used features: 14\n",
            "[LightGBM] [Info] Start training from score 64.289149\n",
            "  Fold 5/5\n",
            "[LightGBM] [Info] Auto-choosing row-wise multi-threading, the overhead of testing was 0.000992 seconds.\n",
            "You can set `force_row_wise=true` to remove the overhead.\n",
            "And if memory is not enough, you can set `force_col_wise=true`.\n",
            "[LightGBM] [Info] Total Bins 1876\n",
            "[LightGBM] [Info] Number of data points in the train set: 24329, number of used features: 14\n",
            "[LightGBM] [Info] Start training from score 64.192242\n",
            "[LightGBM] [Info] Auto-choosing row-wise multi-threading, the overhead of testing was 0.001261 seconds.\n",
            "You can set `force_row_wise=true` to remove the overhead.\n",
            "And if memory is not enough, you can set `force_col_wise=true`.\n",
            "[LightGBM] [Info] Total Bins 1880\n",
            "[LightGBM] [Info] Number of data points in the train set: 30411, number of used features: 14\n",
            "[LightGBM] [Info] Start training from score 64.215527\n",
            "\n",
            "Out-of-fold training predictions and test predictions generated.\n"
          ]
        }
      ]
    },
    {
      "cell_type": "markdown",
      "metadata": {
        "id": "7276604e"
      },
      "source": [
        "## Train meta-model\n",
        "\n",
        "### Subtask:\n",
        "Train a meta-model (e.g., a Linear Regression or a simple tree-based model) on the out-of-fold predictions from the base models.\n"
      ]
    },
    {
      "cell_type": "markdown",
      "metadata": {
        "id": "71997901"
      },
      "source": [
        "**Reasoning**:\n",
        "Train a Linear Regression model as the meta-model using the out-of-fold predictions as features and the original training target as the target.\n",
        "\n"
      ]
    },
    {
      "cell_type": "code",
      "metadata": {
        "colab": {
          "base_uri": "https://localhost:8080/"
        },
        "id": "6ddd22bc",
        "outputId": "f0e4d331-2712-4b5a-bad3-c7c9f8bcee0b"
      },
      "source": [
        "from sklearn.linear_model import LinearRegression\n",
        "\n",
        "# Initialize the Linear Regression model as the meta-model\n",
        "meta_model = LinearRegression()\n",
        "\n",
        "# Train the meta-model using the out-of-fold predictions (oof_train_preds)\n",
        "# as features and the original training target (y_train) as the target\n",
        "meta_model.fit(oof_train_preds, y_train)\n",
        "\n",
        "print(\"Meta-model (Linear Regression) trained successfully!\")"
      ],
      "execution_count": 20,
      "outputs": [
        {
          "output_type": "stream",
          "name": "stdout",
          "text": [
            "Meta-model (Linear Regression) trained successfully!\n"
          ]
        }
      ]
    },
    {
      "cell_type": "markdown",
      "metadata": {
        "id": "27c34a4e"
      },
      "source": [
        "## Make final predictions\n",
        "\n",
        "### Subtask:\n",
        "Use the trained base models to make predictions on the test data, and then use the meta-model to make final predictions based on the base models' test predictions.\n"
      ]
    },
    {
      "cell_type": "markdown",
      "metadata": {
        "id": "d67d02e2"
      },
      "source": [
        "**Reasoning**:\n",
        "Use the trained meta-model to make predictions on the test data using the base models' test predictions as input.\n",
        "\n"
      ]
    },
    {
      "cell_type": "code",
      "metadata": {
        "colab": {
          "base_uri": "https://localhost:8080/"
        },
        "id": "0128232e",
        "outputId": "6a9f40f4-d0e1-4004-fe14-6a2051dbe182"
      },
      "source": [
        "# Use the trained meta_model to make final predictions on the test data\n",
        "# The input to the meta-model is the test_preds array (predictions of base models on the test data)\n",
        "final_predictions = meta_model.predict(test_preds)\n",
        "\n",
        "# Print a confirmation message\n",
        "print(\"Final predictions generated using the meta-model.\")"
      ],
      "execution_count": 21,
      "outputs": [
        {
          "output_type": "stream",
          "name": "stdout",
          "text": [
            "Final predictions generated using the meta-model.\n"
          ]
        }
      ]
    },
    {
      "cell_type": "markdown",
      "metadata": {
        "id": "dd3f7c88"
      },
      "source": [
        "## Evaluate stacked model\n",
        "\n",
        "### Subtask:\n",
        "Evaluate the performance of the stacked model on the original test data using appropriate metrics.\n"
      ]
    },
    {
      "cell_type": "markdown",
      "metadata": {
        "id": "96dace06"
      },
      "source": [
        "**Reasoning**:\n",
        "Evaluate the performance of the stacked model on the original test data using MAE and RMSE.\n",
        "\n"
      ]
    },
    {
      "cell_type": "code",
      "metadata": {
        "colab": {
          "base_uri": "https://localhost:8080/"
        },
        "id": "b030d6c5",
        "outputId": "01a9e619-9ead-4656-b3f7-aa82c70c2c51"
      },
      "source": [
        "from sklearn.metrics import mean_absolute_error, mean_squared_error\n",
        "import numpy as np\n",
        "\n",
        "# Calculate Mean Absolute Error (MAE)\n",
        "mae_stacked = mean_absolute_error(y_test, final_predictions)\n",
        "\n",
        "# Calculate Root Mean Squared Error (RMSE)\n",
        "rmse_stacked = np.sqrt(mean_squared_error(y_test, final_predictions))\n",
        "\n",
        "# Print the evaluation metrics\n",
        "print(f\"Mean Absolute Error (MAE) of Stacked Model: {mae_stacked:.2f}\")\n",
        "print(f\"Root Mean Squared Error (RMSE) of Stacked Model: {rmse_stacked:.2f}\")"
      ],
      "execution_count": 22,
      "outputs": [
        {
          "output_type": "stream",
          "name": "stdout",
          "text": [
            "Mean Absolute Error (MAE) of Stacked Model: 10.06\n",
            "Root Mean Squared Error (RMSE) of Stacked Model: 21.94\n"
          ]
        }
      ]
    },
    {
      "cell_type": "markdown",
      "metadata": {
        "id": "80d0566c"
      },
      "source": [
        "## Summary:\n",
        "\n",
        "### Data Analysis Key Findings\n",
        "\n",
        "*   Three base models (Linear Regression, Ridge Regression, and a tuned LightGBM) were successfully instantiated for the stacked ensemble.\n",
        "*   Out-of-fold predictions for the training data and predictions for the test data were generated for each base model using 5-fold cross-validation.\n",
        "*   A Linear Regression model was trained as the meta-model using the out-of-fold predictions from the base models as features.\n",
        "*   Final predictions were generated on the test data by feeding the base model test predictions into the trained meta-model.\n",
        "*   The stacked ensemble model achieved a Mean Absolute Error (MAE) of 10.06 and a Root Mean Squared Error (RMSE) of 21.94 on the test data.\n",
        "\n",
        "### Insights or Next Steps\n",
        "\n",
        "*   Compare the performance of the stacked model (MAE: 10.06, RMSE: 21.94) against the individual base models to confirm if stacking provided a performance improvement.\n",
        "*   Experiment with different meta-models (e.g., Ridge, ElasticNet, or a simple tree model) and potentially a larger set of diverse base models to further optimize the stacked ensemble's performance.\n"
      ]
    },
    {
      "cell_type": "markdown",
      "metadata": {
        "id": "319b6874"
      },
      "source": [
        "## Train base models and generate out-of-fold predictions\n",
        "\n",
        "### Subtask:\n",
        "Train each base model on the training data using cross-validation. Generate out-of-fold predictions for the training data and predictions for the test data. These out-of-fold predictions will form the training data for the meta-model."
      ]
    },
    {
      "cell_type": "markdown",
      "metadata": {
        "id": "42e97275"
      },
      "source": [
        "**Reasoning**:\n",
        "Train each base model using cross-validation, generate out-of-fold predictions for the training data and predictions for the test data, and store them for the meta-model."
      ]
    },
    {
      "cell_type": "code",
      "metadata": {
        "colab": {
          "base_uri": "https://localhost:8080/"
        },
        "id": "4ec468da",
        "outputId": "81cf99f1-cad5-4454-ff75-216dc1def9e9"
      },
      "source": [
        "from sklearn.model_selection import KFold\n",
        "import numpy as np\n",
        "\n",
        "# Define the number of folds for cross-validation\n",
        "n_splits = 5\n",
        "\n",
        "# Initialize a KFold object\n",
        "kf = KFold(n_splits=n_splits, shuffle=True, random_state=42)\n",
        "\n",
        "# Create empty arrays to store out-of-fold predictions for training and predictions for testing\n",
        "oof_train_preds = np.zeros((X_train.shape[0], len(base_models)))\n",
        "test_preds = np.zeros((X_test.shape[0], len(base_models)))\n",
        "\n",
        "# Iterate through each base model\n",
        "for i, (name, model) in enumerate(base_models):\n",
        "    print(f\"Training {name} using cross-validation...\")\n",
        "\n",
        "    # Iterate through the folds\n",
        "    for fold, (train_index, val_index) in enumerate(kf.split(X_train, y_train)):\n",
        "        print(f\"  Fold {fold+1}/{n_splits}\")\n",
        "\n",
        "        # Split the training data into training and validation sets for the current fold\n",
        "        X_train_fold, X_val_fold = X_train.iloc[train_index], X_train.iloc[val_index]\n",
        "        y_train_fold, y_val_fold = y_train.iloc[train_index], y_train.iloc[val_index]\n",
        "\n",
        "        # Train the model on the training set of the current fold\n",
        "        model.fit(X_train_fold, y_train_fold)\n",
        "\n",
        "        # Generate predictions on the validation set of the current fold\n",
        "        oof_train_preds[val_index, i] = model.predict(X_val_fold)\n",
        "\n",
        "    # Train the model on the entire training dataset after cross-validation\n",
        "    model.fit(X_train, y_train)\n",
        "\n",
        "    # Generate predictions on the test dataset\n",
        "    test_preds[:, i] = model.predict(X_test)\n",
        "\n",
        "print(\"\\nOut-of-fold training predictions and test predictions generated.\")"
      ],
      "execution_count": 23,
      "outputs": [
        {
          "output_type": "stream",
          "name": "stdout",
          "text": [
            "Training Linear Regression using cross-validation...\n",
            "  Fold 1/5\n",
            "  Fold 2/5\n",
            "  Fold 3/5\n",
            "  Fold 4/5\n",
            "  Fold 5/5\n",
            "Training Ridge Regression using cross-validation...\n",
            "  Fold 1/5\n",
            "  Fold 2/5\n",
            "  Fold 3/5\n",
            "  Fold 4/5\n",
            "  Fold 5/5\n",
            "Training LightGBM using cross-validation...\n",
            "  Fold 1/5\n",
            "[LightGBM] [Info] Auto-choosing row-wise multi-threading, the overhead of testing was 0.001001 seconds.\n",
            "You can set `force_row_wise=true` to remove the overhead.\n",
            "And if memory is not enough, you can set `force_col_wise=true`.\n",
            "[LightGBM] [Info] Total Bins 1882\n",
            "[LightGBM] [Info] Number of data points in the train set: 24328, number of used features: 14\n",
            "[LightGBM] [Info] Start training from score 64.320924\n",
            "  Fold 2/5\n",
            "[LightGBM] [Info] Auto-choosing row-wise multi-threading, the overhead of testing was 0.001001 seconds.\n",
            "You can set `force_row_wise=true` to remove the overhead.\n",
            "And if memory is not enough, you can set `force_col_wise=true`.\n",
            "[LightGBM] [Info] Total Bins 1878\n",
            "[LightGBM] [Info] Number of data points in the train set: 24329, number of used features: 14\n",
            "[LightGBM] [Info] Start training from score 63.987898\n",
            "  Fold 3/5\n",
            "[LightGBM] [Info] Auto-choosing row-wise multi-threading, the overhead of testing was 0.001001 seconds.\n",
            "You can set `force_row_wise=true` to remove the overhead.\n",
            "And if memory is not enough, you can set `force_col_wise=true`.\n",
            "[LightGBM] [Info] Total Bins 1881\n",
            "[LightGBM] [Info] Number of data points in the train set: 24329, number of used features: 14\n",
            "[LightGBM] [Info] Start training from score 64.287425\n",
            "  Fold 4/5\n",
            "[LightGBM] [Info] Auto-choosing col-wise multi-threading, the overhead of testing was 0.006315 seconds.\n",
            "You can set `force_col_wise=true` to remove the overhead.\n",
            "[LightGBM] [Info] Total Bins 1880\n",
            "[LightGBM] [Info] Number of data points in the train set: 24329, number of used features: 14\n",
            "[LightGBM] [Info] Start training from score 64.289149\n",
            "  Fold 5/5\n",
            "[LightGBM] [Info] Auto-choosing row-wise multi-threading, the overhead of testing was 0.001011 seconds.\n",
            "You can set `force_row_wise=true` to remove the overhead.\n",
            "And if memory is not enough, you can set `force_col_wise=true`.\n",
            "[LightGBM] [Info] Total Bins 1876\n",
            "[LightGBM] [Info] Number of data points in the train set: 24329, number of used features: 14\n",
            "[LightGBM] [Info] Start training from score 64.192242\n",
            "[LightGBM] [Info] Auto-choosing row-wise multi-threading, the overhead of testing was 0.001266 seconds.\n",
            "You can set `force_row_wise=true` to remove the overhead.\n",
            "And if memory is not enough, you can set `force_col_wise=true`.\n",
            "[LightGBM] [Info] Total Bins 1880\n",
            "[LightGBM] [Info] Number of data points in the train set: 30411, number of used features: 14\n",
            "[LightGBM] [Info] Start training from score 64.215527\n",
            "\n",
            "Out-of-fold training predictions and test predictions generated.\n"
          ]
        }
      ]
    },
    {
      "cell_type": "markdown",
      "metadata": {
        "id": "73b2dca6"
      },
      "source": [
        "## Train meta-model\n",
        "\n",
        "### Subtask:\n",
        "Train a meta-model (e.g., a Linear Regression or a simple tree-based model) on the out-of-fold predictions from the base models."
      ]
    },
    {
      "cell_type": "markdown",
      "metadata": {
        "id": "75a21027"
      },
      "source": [
        "**Reasoning**:\n",
        "Train a Linear Regression model as the meta-model using the out-of-fold predictions as features and the original training target as the target."
      ]
    },
    {
      "cell_type": "code",
      "metadata": {
        "colab": {
          "base_uri": "https://localhost:8080/"
        },
        "id": "5b61621e",
        "outputId": "3025c4b7-6f17-44e3-e077-f788b75dc858"
      },
      "source": [
        "from sklearn.linear_model import LinearRegression\n",
        "\n",
        "# Initialize the Linear Regression model as the meta-model\n",
        "meta_model = LinearRegression()\n",
        "\n",
        "# Train the meta-model using the out-of-fold predictions (oof_train_preds)\n",
        "# as features and the original training target (y_train) as the target\n",
        "meta_model.fit(oof_train_preds, y_train)\n",
        "\n",
        "print(\"Meta-model (Linear Regression) trained successfully!\")"
      ],
      "execution_count": 24,
      "outputs": [
        {
          "output_type": "stream",
          "name": "stdout",
          "text": [
            "Meta-model (Linear Regression) trained successfully!\n"
          ]
        }
      ]
    },
    {
      "cell_type": "markdown",
      "metadata": {
        "id": "c1f77d10"
      },
      "source": [
        "## Make final predictions\n",
        "\n",
        "### Subtask:\n",
        "Use the trained base models to make predictions on the test data, and then use the meta-model to make final predictions based on the base models' test predictions."
      ]
    },
    {
      "cell_type": "markdown",
      "metadata": {
        "id": "f5ac3af5"
      },
      "source": [
        "**Reasoning**:\n",
        "Use the trained meta-model to make predictions on the test data using the base models' test predictions as input."
      ]
    },
    {
      "cell_type": "code",
      "metadata": {
        "colab": {
          "base_uri": "https://localhost:8080/"
        },
        "id": "387ceb31",
        "outputId": "2ebfa144-2001-4b2b-f8e9-6e2f625cd1d7"
      },
      "source": [
        "# Use the trained meta_model to make final predictions on the test data\n",
        "# The input to the meta-model is the test_preds array (predictions of base models on the test data)\n",
        "final_predictions = meta_model.predict(test_preds)\n",
        "\n",
        "# Print a confirmation message\n",
        "print(\"Final predictions generated using the meta-model.\")"
      ],
      "execution_count": 25,
      "outputs": [
        {
          "output_type": "stream",
          "name": "stdout",
          "text": [
            "Final predictions generated using the meta-model.\n"
          ]
        }
      ]
    },
    {
      "cell_type": "markdown",
      "metadata": {
        "id": "7dce316c"
      },
      "source": [
        "## Evaluate stacked model\n",
        "\n",
        "### Subtask:\n",
        "Evaluate the performance of the stacked model on the original test data using appropriate metrics."
      ]
    },
    {
      "cell_type": "markdown",
      "metadata": {
        "id": "73affa60"
      },
      "source": [
        "**Reasoning**:\n",
        "Evaluate the performance of the stacked model on the original test data using MAE and RMSE."
      ]
    },
    {
      "cell_type": "code",
      "metadata": {
        "colab": {
          "base_uri": "https://localhost:8080/"
        },
        "id": "a2688d59",
        "outputId": "cb999c23-66a2-4572-e4ef-9d141c9db09f"
      },
      "source": [
        "from sklearn.metrics import mean_absolute_error, mean_squared_error\n",
        "import numpy as np\n",
        "\n",
        "# Calculate Mean Absolute Error (MAE)\n",
        "mae_stacked = mean_absolute_error(y_test, final_predictions)\n",
        "\n",
        "# Calculate Root Mean Squared Error (RMSE)\n",
        "rmse_stacked = np.sqrt(mean_squared_error(y_test, final_predictions))\n",
        "\n",
        "# Print the evaluation metrics\n",
        "print(f\"Mean Absolute Error (MAE) of Stacked Model: {mae_stacked:.2f}\")\n",
        "print(f\"Root Mean Squared Error (RMSE) of Stacked Model: {rmse_stacked:.2f}\")"
      ],
      "execution_count": 26,
      "outputs": [
        {
          "output_type": "stream",
          "name": "stdout",
          "text": [
            "Mean Absolute Error (MAE) of Stacked Model: 10.06\n",
            "Root Mean Squared Error (RMSE) of Stacked Model: 21.94\n"
          ]
        }
      ]
    }
  ]
}